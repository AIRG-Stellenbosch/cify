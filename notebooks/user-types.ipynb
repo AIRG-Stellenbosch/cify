{
 "cells": [
  {
   "cell_type": "markdown",
   "source": [
    "## User Type 1\n",
    "\n",
    "\"As a simple user, I want to use metaheuristics, to solve a problem.\""
   ],
   "metadata": {
    "collapsed": false,
    "pycharm": {
     "name": "#%% md\n"
    }
   }
  },
  {
   "cell_type": "code",
   "execution_count": 1,
   "metadata": {
    "collapsed": true,
    "pycharm": {
     "name": "#%%\n"
    }
   },
   "outputs": [
    {
     "name": "stdout",
     "output_type": "stream",
     "text": [
      "CIFY: internal seed successfully set to: '0'\n"
     ]
    },
    {
     "name": "stderr",
     "output_type": "stream",
     "text": [
      "100%|██████████| 100/100 [00:15<00:00,  6.40it/s]\n"
     ]
    },
    {
     "data": {
      "text/plain": "                best       worst        mean      stdev  global_optimum  \\\niteration                                                                 \n100        35.518614  274.448819  178.569922  39.400502       35.518614   \n\n          n_evaluations  \niteration                \n100                5456  ",
      "text/html": "<div>\n<style scoped>\n    .dataframe tbody tr th:only-of-type {\n        vertical-align: middle;\n    }\n\n    .dataframe tbody tr th {\n        vertical-align: top;\n    }\n\n    .dataframe thead th {\n        text-align: right;\n    }\n</style>\n<table border=\"1\" class=\"dataframe\">\n  <thead>\n    <tr style=\"text-align: right;\">\n      <th></th>\n      <th>best</th>\n      <th>worst</th>\n      <th>mean</th>\n      <th>stdev</th>\n      <th>global_optimum</th>\n      <th>n_evaluations</th>\n    </tr>\n    <tr>\n      <th>iteration</th>\n      <th></th>\n      <th></th>\n      <th></th>\n      <th></th>\n      <th></th>\n      <th></th>\n    </tr>\n  </thead>\n  <tbody>\n    <tr>\n      <th>100</th>\n      <td>35.518614</td>\n      <td>274.448819</td>\n      <td>178.569922</td>\n      <td>39.400502</td>\n      <td>35.518614</td>\n      <td>5456</td>\n    </tr>\n  </tbody>\n</table>\n</div>"
     },
     "execution_count": 1,
     "metadata": {},
     "output_type": "execute_result"
    }
   ],
   "source": [
    "import cify as ci\n",
    "from cify.si.pso.algorithm import InertiaWeightPSO\n",
    "\n",
    "# 1. Set seed\n",
    "ci.set_seed(0)\n",
    "\n",
    "# 2. Create objective function\n",
    "obj_func = ci.get_objective_function('rastrigin')\n",
    "\n",
    "# 3. Create metaheuristic\n",
    "pso = InertiaWeightPSO(obj_func)\n",
    "\n",
    "# Perform 100 iterations and examine the final one.\n",
    "pso.execute(100)\n",
    "pso.statistics.tail(1)"
   ]
  },
  {
   "cell_type": "code",
   "execution_count": 2,
   "outputs": [
    {
     "name": "stdout",
     "output_type": "stream",
     "text": [
      "CIFY: internal seed successfully set to: '0'\n"
     ]
    },
    {
     "name": "stderr",
     "output_type": "stream",
     "text": [
      "100%|██████████| 100/100 [00:13<00:00,  7.49it/s]\n"
     ]
    },
    {
     "data": {
      "text/plain": "                best        worst         mean       stdev  global_optimum  \\\niteration                                                                    \n100        93.285239  3199.455713  1251.804727  792.303659        0.321979   \n\n          n_evaluations  \niteration                \n100                5451  ",
      "text/html": "<div>\n<style scoped>\n    .dataframe tbody tr th:only-of-type {\n        vertical-align: middle;\n    }\n\n    .dataframe tbody tr th {\n        vertical-align: top;\n    }\n\n    .dataframe thead th {\n        text-align: right;\n    }\n</style>\n<table border=\"1\" class=\"dataframe\">\n  <thead>\n    <tr style=\"text-align: right;\">\n      <th></th>\n      <th>best</th>\n      <th>worst</th>\n      <th>mean</th>\n      <th>stdev</th>\n      <th>global_optimum</th>\n      <th>n_evaluations</th>\n    </tr>\n    <tr>\n      <th>iteration</th>\n      <th></th>\n      <th></th>\n      <th></th>\n      <th></th>\n      <th></th>\n      <th></th>\n    </tr>\n  </thead>\n  <tbody>\n    <tr>\n      <th>100</th>\n      <td>93.285239</td>\n      <td>3199.455713</td>\n      <td>1251.804727</td>\n      <td>792.303659</td>\n      <td>0.321979</td>\n      <td>5451</td>\n    </tr>\n  </tbody>\n</table>\n</div>"
     },
     "execution_count": 2,
     "metadata": {},
     "output_type": "execute_result"
    }
   ],
   "source": [
    "import cify as ci\n",
    "from cify.si.pso.algorithm import InertiaWeightPSO\n",
    "\n",
    "# 1. Set seed\n",
    "ci.set_seed(0)\n",
    "\n",
    "# 2. Create objective function\n",
    "obj_func = ci.ObjectiveFunction(function=lambda vector: abs(sum(vector)),\n",
    "                                optimization=ci.Optimization.Min)\n",
    "\n",
    "# 3. Create metaheuristic\n",
    "pso = InertiaWeightPSO(obj_func)\n",
    "\n",
    "# Perform 100 iterations and examine the final one.\n",
    "pso.execute(100)\n",
    "pso.statistics.tail(1)"
   ],
   "metadata": {
    "collapsed": false,
    "pycharm": {
     "name": "#%%\n"
    }
   }
  },
  {
   "cell_type": "markdown",
   "source": [
    "## User Type 2\n",
    "\n",
    "\"As a curious user, I want to use tuned algorithms, to solve my problems.\""
   ],
   "metadata": {
    "collapsed": false,
    "pycharm": {
     "name": "#%% md\n"
    }
   }
  },
  {
   "cell_type": "code",
   "execution_count": 3,
   "outputs": [
    {
     "name": "stdout",
     "output_type": "stream",
     "text": [
      "CIFY: internal seed successfully set to: '0'\n"
     ]
    },
    {
     "name": "stderr",
     "output_type": "stream",
     "text": [
      "100%|██████████| 100/100 [00:26<00:00,  3.77it/s]\n"
     ]
    },
    {
     "data": {
      "text/plain": "                  best       worst         mean       stdev  global_optimum  \\\niteration                                                                     \n100        3012.502398  886.237955  2067.166218  456.731248     3784.508297   \n\n          n_evaluations  \niteration                \n100               13668  ",
      "text/html": "<div>\n<style scoped>\n    .dataframe tbody tr th:only-of-type {\n        vertical-align: middle;\n    }\n\n    .dataframe tbody tr th {\n        vertical-align: top;\n    }\n\n    .dataframe thead th {\n        text-align: right;\n    }\n</style>\n<table border=\"1\" class=\"dataframe\">\n  <thead>\n    <tr style=\"text-align: right;\">\n      <th></th>\n      <th>best</th>\n      <th>worst</th>\n      <th>mean</th>\n      <th>stdev</th>\n      <th>global_optimum</th>\n      <th>n_evaluations</th>\n    </tr>\n    <tr>\n      <th>iteration</th>\n      <th></th>\n      <th></th>\n      <th></th>\n      <th></th>\n      <th></th>\n      <th></th>\n    </tr>\n  </thead>\n  <tbody>\n    <tr>\n      <th>100</th>\n      <td>3012.502398</td>\n      <td>886.237955</td>\n      <td>2067.166218</td>\n      <td>456.731248</td>\n      <td>3784.508297</td>\n      <td>13668</td>\n    </tr>\n  </tbody>\n</table>\n</div>"
     },
     "execution_count": 3,
     "metadata": {},
     "output_type": "execute_result"
    }
   ],
   "source": [
    "import cify as ci\n",
    "from cify.si.pso.algorithm import PSO\n",
    "\n",
    "# 1. Set seed\n",
    "ci.set_seed(0)\n",
    "\n",
    "# 2. Create objective function\n",
    "obj_func = ci.get_objective_function('schwefel',\n",
    "                                     n_dimensions=5,\n",
    "                                     optimization=ci.Optimization.Max)\n",
    "\n",
    "# 3. Create metaheuristic\n",
    "modified_swarm = ci.get_swarm(50, obj_func=obj_func)\n",
    "modified_swarm.velocity_params = {'c1' : 0.4, 'c2': 0.25}\n",
    "\n",
    "pso = PSO(obj_func,\n",
    "          swarms=[ci.get_swarm(35, obj_func=obj_func),\n",
    "                  ci.get_swarm(50, obj_func=obj_func),\n",
    "                  modified_swarm\n",
    "                  ],\n",
    "          velocity_update=ci.velocity_updates.constriction_coefficient_vel_update,\n",
    "          velocity_params={'k': 0.9}\n",
    "          )\n",
    "\n",
    "# Perform 100 iterations and examine the final one.\n",
    "pso.execute(100)\n",
    "pso.statistics.tail(1)"
   ],
   "metadata": {
    "collapsed": false,
    "pycharm": {
     "name": "#%%\n"
    }
   }
  },
  {
   "cell_type": "code",
   "execution_count": 6,
   "outputs": [
    {
     "data": {
      "text/plain": "<Figure size 640x480 with 1 Axes>",
      "image/png": "[encoded data removed]"
     },
     "metadata": {},
     "output_type": "display_data"
    }
   ],
   "source": [
    "import matplotlib.pyplot as plt\n",
    "\n",
    "plt.plot(pso.statistics['global_optimum'])\n",
    "plt.show()"
   ],
   "metadata": {
    "collapsed": false,
    "pycharm": {
     "name": "#%%\n"
    }
   }
  },
  {
   "cell_type": "markdown",
   "source": [
    "## User Type 3\n",
    "\n",
    "\"As a researcher, I want to experiment with novel metaheuristics, so that I can evaluate new approaches to optimization.\""
   ],
   "metadata": {
    "collapsed": false,
    "pycharm": {
     "name": "#%% md\n"
    }
   }
  },
  {
   "cell_type": "code",
   "execution_count": 7,
   "outputs": [
    {
     "name": "stdout",
     "output_type": "stream",
     "text": [
      "CIFY: internal seed successfully set to: '1234'\n"
     ]
    },
    {
     "name": "stderr",
     "output_type": "stream",
     "text": [
      "100%|██████████| 100/100 [01:03<00:00,  1.58it/s]\n"
     ]
    },
    {
     "data": {
      "text/plain": "                  best       worst        mean       stdev  global_optimum  \\\niteration                                                                    \n100        1164.029955  483.097184  843.876113  141.116417     1503.137238   \n\n          n_evaluations  \niteration                \n100               14073  ",
      "text/html": "<div>\n<style scoped>\n    .dataframe tbody tr th:only-of-type {\n        vertical-align: middle;\n    }\n\n    .dataframe tbody tr th {\n        vertical-align: top;\n    }\n\n    .dataframe thead th {\n        text-align: right;\n    }\n</style>\n<table border=\"1\" class=\"dataframe\">\n  <thead>\n    <tr style=\"text-align: right;\">\n      <th></th>\n      <th>best</th>\n      <th>worst</th>\n      <th>mean</th>\n      <th>stdev</th>\n      <th>global_optimum</th>\n      <th>n_evaluations</th>\n    </tr>\n    <tr>\n      <th>iteration</th>\n      <th></th>\n      <th></th>\n      <th></th>\n      <th></th>\n      <th></th>\n      <th></th>\n    </tr>\n  </thead>\n  <tbody>\n    <tr>\n      <th>100</th>\n      <td>1164.029955</td>\n      <td>483.097184</td>\n      <td>843.876113</td>\n      <td>141.116417</td>\n      <td>1503.137238</td>\n      <td>14073</td>\n    </tr>\n  </tbody>\n</table>\n</div>"
     },
     "execution_count": 7,
     "metadata": {},
     "output_type": "execute_result"
    }
   ],
   "source": [
    "import cify as ci\n",
    "from cify.si.pso.algorithm import PSO\n",
    "\n",
    "# 1. Set seed\n",
    "ci.set_seed(1234)\n",
    "\n",
    "# 2. Create objective function\n",
    "def sphere(vector):\n",
    "    return sum([float(x)**2 for x in vector])\n",
    "\n",
    "obj_func = ci.ObjectiveFunction(sphere,\n",
    "                                ci.Optimization.Max,\n",
    "                                n_dimensions=25,\n",
    "                                bounds=[-10, 10]\n",
    "                                )\n",
    "\n",
    "# 3. Create metaheuristic\n",
    "class CustomPSO(PSO):\n",
    "    def __init__(self, **kwargs):\n",
    "        super().__init__(**kwargs)\n",
    "\n",
    "    def do_iteration(self):\n",
    "        for swarm in self.swarms:\n",
    "            for particle in swarm:\n",
    "                particle.position = (particle.position + particle.p_best_position) / 2\n",
    "        return super().do_iteration()\n",
    "\n",
    "swarm = ci.get_swarm(50, obj_func=obj_func)\n",
    "swarm.velocity_update = ci.velocity_updates.deterministic_iw_vel_update\n",
    "\n",
    "pso = CustomPSO(obj_func=obj_func,\n",
    "                swarms=[swarm,\n",
    "                        ci.get_swarm(35, obj_func=obj_func),\n",
    "                        ci.get_swarm(50, obj_func=obj_func)\n",
    "                        ],\n",
    "                velocity_update=ci.velocity_updates.constriction_coefficient_vel_update,\n",
    "                velocity_params={'k': 0.9, 'c1': 1.345}\n",
    "                )\n",
    "\n",
    "# Perform 100 iterations and examine the final one.\n",
    "pso.execute(100)\n",
    "pso.statistics.tail(1)"
   ],
   "metadata": {
    "collapsed": false,
    "pycharm": {
     "name": "#%%\n"
    }
   }
  },
  {
   "cell_type": "code",
   "execution_count": null,
   "outputs": [],
   "source": [],
   "metadata": {
    "collapsed": false,
    "pycharm": {
     "name": "#%%\n"
    }
   }
  }
 ],
 "metadata": {
  "kernelspec": {
   "display_name": "Python 3",
   "language": "python",
   "name": "python3"
  },
  "language_info": {
   "codemirror_mode": {
    "name": "ipython",
    "version": 2
   },
   "file_extension": ".py",
   "mimetype": "text/x-python",
   "name": "python",
   "nbconvert_exporter": "python",
   "pygments_lexer": "ipython2",
   "version": "2.7.6"
  }
 },
 "nbformat": 4,
 "nbformat_minor": 0
}