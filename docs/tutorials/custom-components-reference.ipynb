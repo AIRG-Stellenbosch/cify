{
 "cells": [
  {
   "cell_type": "markdown",
   "metadata": {
    "collapsed": false,
    "pycharm": {
     "name": "#%% md\n"
    }
   },
   "source": [
    "# The Custom Components Reference\n",
    "\n",
    "This tutorial is meant to be used as a quick reference for when you want to develop your own custom components and need to know which parameters they must take or methods to implement."
   ]
  },
  {
   "cell_type": "markdown",
   "metadata": {
    "collapsed": false,
    "pycharm": {
     "name": "#%% md\n"
    }
   },
   "source": [
    "## Algorithm\n",
    "\n",
    "1. Define a new class that extends either `cify.Algorithm`, or a generic class of the paradigm you will most closely replicate. For example, `class CustomPSO(PSO):`.\n",
    "2. Define the `__init__` method to take `self` and `**kwargs` as arguments. You may also pass your own additional fields / attributes as the example shows using `custom_field`.\n",
    "3. Override the `do_iteration` method. This method performs the logic of one iteration. The `do_iteration` method should return a list of all the `Collection` s belonging to the metaheuristic. A good example template is given below."
   ]
  },
  {
   "cell_type": "code",
   "execution_count": 7,
   "metadata": {
    "collapsed": false,
    "pycharm": {
     "name": "#%%\n"
    }
   },
   "outputs": [],
   "source": [
    "import cify as ci\n",
    "\n",
    "class CustomAlgorithm(ci.Algorithm):\n",
    "\n",
    "    def __init__(self, custom_field, **kwargs):\n",
    "        super().__init__(**kwargs)\n",
    "\n",
    "        # Set custom additional fields\n",
    "        self.custom_field = custom_field\n",
    "\n",
    "    def do_iteration(self):\n",
    "        # This is where you implement the logic of one iteration.\n",
    "\n",
    "        # EXAMPLE\n",
    "        # for collection in self.collections:\n",
    "        #     for agent in collection:\n",
    "                # <- Inner logic ->\n",
    "        # return self.collections\n",
    "\n",
    "        pass"
   ]
  },
  {
   "cell_type": "markdown",
   "metadata": {
    "collapsed": false,
    "pycharm": {
     "name": "#%% md\n"
    }
   },
   "source": [
    "## Agent\n",
    "\n",
    "Defining a custom `Agent` requires overriding three methods as shown below. You may also opt to define an `__init__` method for custom attributes / fields.\n",
    "Remember, you can use these fields to return anything. Get creative."
   ]
  },
  {
   "cell_type": "code",
   "execution_count": 8,
   "metadata": {
    "collapsed": false,
    "pycharm": {
     "name": "#%%\n"
    }
   },
   "outputs": [],
   "source": [
    "import cify as ci\n",
    "\n",
    "class CustomAgent(ci.Agent):\n",
    "\n",
    "    @property\n",
    "    def position(self) -> ci.Position:\n",
    "        # Return the agent's position\n",
    "        pass\n",
    "\n",
    "    @property\n",
    "    def p_best_position(self) -> ci.Position:\n",
    "        # Return the agent's personal best position\n",
    "        pass\n",
    "\n",
    "    @property\n",
    "    def social_best_pos(self) -> ci.Position:\n",
    "        # Return the agent's social best position\n",
    "        pass\n"
   ]
  },
  {
   "cell_type": "markdown",
   "metadata": {
    "collapsed": false,
    "pycharm": {
     "name": "#%% md\n"
    }
   },
   "source": [
    "## Topology\n",
    "\n",
    "Creating your own topology requires accepting three necessary parameters:\n",
    "\n",
    "1. `agent`\n",
    "2. `collection`\n",
    "3. `**kwargs`\n",
    "\n",
    "You do not have to accept these parameters as the same types shown below, however their names must remain the same."
   ]
  },
  {
   "cell_type": "code",
   "execution_count": 9,
   "metadata": {
    "collapsed": false,
    "pycharm": {
     "name": "#%%\n"
    }
   },
   "outputs": [],
   "source": [
    "import cify as ci\n",
    "\n",
    "def topology(agent: ci.Agent, collection: ci.Collection, **kwargs):\n",
    "    # logic\n",
    "    pass"
   ]
  },
  {
   "cell_type": "markdown",
   "metadata": {
    "collapsed": false,
    "pycharm": {
     "name": "#%% md\n"
    }
   },
   "source": [
    "## ObjectiveFunction\n",
    "\n",
    "Defining your own objective function is fairly straightforward.\n",
    "The example below defines a simple objective function where the objective is to minimize the absolute sum of all input variables (elements in a candidate solution's vector).\n",
    "An example vector constraint is also given. The constraint simply makes sure that the first element of the vector is not less than 1. This will mean any metaheuristic that attempts to\n",
    "solve the objective function will have to use negative values in the other vector positions to alleviate this constraint."
   ]
  },
  {
   "cell_type": "code",
   "execution_count": 7,
   "metadata": {
    "collapsed": false,
    "pycharm": {
     "name": "#%%\n"
    }
   },
   "outputs": [],
   "source": [
    "import cify as ci\n",
    "\n",
    "def func_to_optimize(vector):\n",
    "    # Return the result of the function.\n",
    "    return abs(sum(vector))\n",
    "\n",
    "def v_constraint(vector):\n",
    "    if vector[0] > 1:\n",
    "        return False\n",
    "    return True\n",
    "\n",
    "custom_obj_func = ci.ObjectiveFunction(function=func_to_optimize,\n",
    "                                       optimization=ci.Optimization.Min,\n",
    "                                       n_dimensions=10,\n",
    "                                       bounds=[-10, 10],\n",
    "                                       vector_constraints=[v_constraint])"
   ]
  },
  {
   "cell_type": "markdown",
   "metadata": {
    "collapsed": false,
    "pycharm": {
     "name": "#%% md\n"
    }
   },
   "source": [
    "Let's optimize this custom function using the `InertiaWeightPSO` metaheuristic. This will give you an example of how to use your custom function.\n",
    "If you have used provided benchmark objective functions before, the process is the same."
   ]
  },
  {
   "cell_type": "code",
   "execution_count": 8,
   "metadata": {
    "collapsed": false,
    "pycharm": {
     "name": "#%%\n"
    }
   },
   "outputs": [
    {
     "name": "stderr",
     "output_type": "stream",
     "text": [
      "100%|██████████| 150/150 [00:20<00:00,  7.17it/s]\n"
     ]
    },
    {
     "data": {
      "text/html": [
       "<div>\n",
       "<style scoped>\n",
       "    .dataframe tbody tr th:only-of-type {\n",
       "        vertical-align: middle;\n",
       "    }\n",
       "\n",
       "    .dataframe tbody tr th {\n",
       "        vertical-align: top;\n",
       "    }\n",
       "\n",
       "    .dataframe thead th {\n",
       "        text-align: right;\n",
       "    }\n",
       "</style>\n",
       "<table border=\"1\" class=\"dataframe\">\n",
       "  <thead>\n",
       "    <tr style=\"text-align: right;\">\n",
       "      <th></th>\n",
       "      <th>best</th>\n",
       "      <th>worst</th>\n",
       "      <th>mean</th>\n",
       "      <th>stdev</th>\n",
       "      <th>global_optimum</th>\n",
       "      <th>n_evaluations</th>\n",
       "    </tr>\n",
       "    <tr>\n",
       "      <th>iteration</th>\n",
       "      <th></th>\n",
       "      <th></th>\n",
       "      <th></th>\n",
       "      <th></th>\n",
       "      <th></th>\n",
       "      <th></th>\n",
       "    </tr>\n",
       "  </thead>\n",
       "  <tbody>\n",
       "    <tr>\n",
       "      <th>150</th>\n",
       "      <td>0.201879</td>\n",
       "      <td>46.061525</td>\n",
       "      <td>16.127577</td>\n",
       "      <td>11.388007</td>\n",
       "      <td>0.000434</td>\n",
       "      <td>5451</td>\n",
       "    </tr>\n",
       "  </tbody>\n",
       "</table>\n",
       "</div>"
      ],
      "text/plain": [
       "               best      worst       mean      stdev  global_optimum  \\\n",
       "iteration                                                              \n",
       "150        0.201879  46.061525  16.127577  11.388007        0.000434   \n",
       "\n",
       "          n_evaluations  \n",
       "iteration                \n",
       "150                5451  "
      ]
     },
     "execution_count": 8,
     "metadata": {},
     "output_type": "execute_result"
    }
   ],
   "source": [
    "from cify.si.pso.algorithm import InertiaWeightPSO\n",
    "\n",
    "pso = InertiaWeightPSO(obj_func=custom_obj_func)\n",
    "\n",
    "pso.execute(150)\n",
    "pso.statistics.tail(1)"
   ]
  },
  {
   "cell_type": "markdown",
   "metadata": {
    "collapsed": false,
    "pycharm": {
     "name": "#%% md\n"
    }
   },
   "source": [
    "## Evolutionary Operators\n",
    "\n",
    "All evolutionary operators take `**kwargs` as a parameter to avoid generating the \"unexpected keyword arguments\" `TypeError`."
   ]
  },
  {
   "cell_type": "markdown",
   "metadata": {
    "collapsed": false,
    "pycharm": {
     "name": "#%% md\n"
    }
   },
   "source": [
    "### Selection Operators\n",
    "\n",
    "Selection operators operate on a population, you only need to take as parameters:\n",
    "\n",
    "1. `population`\n",
    "2. `**kwargs`"
   ]
  },
  {
   "cell_type": "code",
   "execution_count": 10,
   "metadata": {
    "collapsed": false,
    "pycharm": {
     "name": "#%%\n"
    }
   },
   "outputs": [],
   "source": [
    "import cify as ci\n",
    "\n",
    "def selection_operator(population: list or ci.Collection, **kwargs):\n",
    "    # logic\n",
    "    # return new population\n",
    "    pass"
   ]
  },
  {
   "cell_type": "markdown",
   "metadata": {
    "collapsed": false,
    "pycharm": {
     "name": "#%% md\n"
    }
   },
   "source": [
    "### Mutation Operators\n",
    "\n",
    "Mutation operators operate on a single individual. The parameters your function must take:\n",
    "\n",
    "1. `individual`\n",
    "2. `**kwargs`"
   ]
  },
  {
   "cell_type": "code",
   "execution_count": 11,
   "metadata": {
    "collapsed": false,
    "pycharm": {
     "name": "#%%\n"
    }
   },
   "outputs": [],
   "source": [
    "import cify as ci\n",
    "\n",
    "def mutation_operator(individual: ci.Individual, **kwargs):\n",
    "    # logic\n",
    "    # return mutated individual\n",
    "    pass"
   ]
  },
  {
   "cell_type": "markdown",
   "metadata": {
    "collapsed": false,
    "pycharm": {
     "name": "#%% md\n"
    }
   },
   "source": [
    "### Crossover Operators\n",
    "\n",
    "Crossover operators operate on the given parents. The CIFY provided crossover operators specify the types `list` or `cify.Collection`, however, you do not need to.\n",
    "The two parameters to take:\n",
    "\n",
    "1. `parents`\n",
    "2. `**kwargs`"
   ]
  },
  {
   "cell_type": "code",
   "execution_count": 12,
   "metadata": {
    "collapsed": false,
    "pycharm": {
     "name": "#%%\n"
    }
   },
   "outputs": [],
   "source": [
    "import cify as ci\n",
    "\n",
    "def crossover_operator(parents: list or ci.Collection, **kwargs):\n",
    "    # logic\n",
    "    # return offspring\n",
    "    pass"
   ]
  }
 ],
 "metadata": {
  "kernelspec": {
   "display_name": "Python 3",
   "language": "python",
   "name": "python3"
  },
  "language_info": {
   "codemirror_mode": {
    "name": "ipython",
    "version": 2
   },
   "file_extension": ".py",
   "mimetype": "text/x-python",
   "name": "python",
   "nbconvert_exporter": "python",
   "pygments_lexer": "ipython2",
   "version": "2.7.6"
  }
 },
 "nbformat": 4,
 "nbformat_minor": 0
}
