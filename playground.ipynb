{
 "cells": [
  {
   "cell_type": "markdown",
   "metadata": {
    "collapsed": false,
    "pycharm": {
     "name": "#%% md\n"
    }
   },
   "source": [
    "# Playground\n",
    "\n",
    "For trying out features."
   ]
  },
  {
   "cell_type": "code",
   "execution_count": 1,
   "metadata": {
    "collapsed": false,
    "pycharm": {
     "name": "#%%\n"
    }
   },
   "outputs": [
    {
     "name": "stdout",
     "output_type": "stream",
     "text": [
      "component: None\n",
      "None\n"
     ]
    }
   ],
   "source": [
    "import cify as ci\n",
    "from cify.si.pso.algorithm import PSO"
   ]
  },
  {
   "cell_type": "code",
   "execution_count": 13,
   "metadata": {
    "pycharm": {
     "name": "#%%\n"
    }
   },
   "outputs": [
    {
     "name": "stdout",
     "output_type": "stream",
     "text": [
      "CIFY: internal seed successfully set to: '1234'\n"
     ]
    },
    {
     "name": "stderr",
     "output_type": "stream",
     "text": [
      "100%|██████████| 100/100 [01:05<00:00,  1.53it/s]\n"
     ]
    },
    {
     "data": {
      "text/html": [
       "<div>\n",
       "<style scoped>\n",
       "    .dataframe tbody tr th:only-of-type {\n",
       "        vertical-align: middle;\n",
       "    }\n",
       "\n",
       "    .dataframe tbody tr th {\n",
       "        vertical-align: top;\n",
       "    }\n",
       "\n",
       "    .dataframe thead th {\n",
       "        text-align: right;\n",
       "    }\n",
       "</style>\n",
       "<table border=\"1\" class=\"dataframe\">\n",
       "  <thead>\n",
       "    <tr style=\"text-align: right;\">\n",
       "      <th></th>\n",
       "      <th>best</th>\n",
       "      <th>worst</th>\n",
       "      <th>mean</th>\n",
       "      <th>stdev</th>\n",
       "      <th>global_optimum</th>\n",
       "      <th>n_evaluations</th>\n",
       "    </tr>\n",
       "    <tr>\n",
       "      <th>iteration</th>\n",
       "      <th></th>\n",
       "      <th></th>\n",
       "      <th></th>\n",
       "      <th></th>\n",
       "      <th></th>\n",
       "      <th></th>\n",
       "    </tr>\n",
       "  </thead>\n",
       "  <tbody>\n",
       "    <tr>\n",
       "      <th>100</th>\n",
       "      <td>1295.487109</td>\n",
       "      <td>518.07619</td>\n",
       "      <td>855.925975</td>\n",
       "      <td>155.966364</td>\n",
       "      <td>1439.106606</td>\n",
       "      <td>14071</td>\n",
       "    </tr>\n",
       "  </tbody>\n",
       "</table>\n",
       "</div>"
      ],
      "text/plain": [
       "                  best      worst        mean       stdev  global_optimum  \\\n",
       "iteration                                                                   \n",
       "100        1295.487109  518.07619  855.925975  155.966364     1439.106606   \n",
       "\n",
       "          n_evaluations  \n",
       "iteration                \n",
       "100               14071  "
      ]
     },
     "execution_count": 13,
     "metadata": {},
     "output_type": "execute_result"
    }
   ],
   "source": [
    "import cify as ci\n",
    "from cify.si.pso.algorithm import PSO\n",
    "\n",
    "# 1. Set seed\n",
    "ci.set_seed(1234)\n",
    "\n",
    "# 2. Create objective function\n",
    "def sphere(vector):\n",
    "    return sum([float(x)**2 for x in vector])\n",
    "\n",
    "obj_func = ci.ObjectiveFunction(sphere, \n",
    "                                ci.Optimization.Max, \n",
    "                                n_dimensions=25, \n",
    "                                bounds=[-10, 10]\n",
    ")\n",
    "\n",
    "# 3. Create metaheuristic\n",
    "class customPSO(PSO):\n",
    "    def __init__(self, **kwargs):\n",
    "        super().__init__(**kwargs)\n",
    "\n",
    "    def do_iteration(self):\n",
    "        for swarm in self.swarms:\n",
    "            for particle in swarm:\n",
    "                particle.position = (particle.position + particle.p_best_position) / 2\n",
    "        return super().do_iteration()\n",
    "\n",
    "swarm = ci.get_swarm(50, obj_func=obj_func)\n",
    "swarm.velocity_update = ci.velocity_updates.deterministic_iw_vel_update\n",
    "\n",
    "pso = customPSO(obj_func=obj_func, \n",
    "                swarms=[swarm,\n",
    "                        ci.get_swarm(35, obj_func=obj_func),\n",
    "                        ci.get_swarm(50, obj_func=obj_func)\n",
    "                        ],\n",
    "                velocity_update=ci.velocity_updates.constriction_coefficient_vel_update,\n",
    "                velocity_params={'k': 0.9, 'c1': 1.345}\n",
    ")\n",
    "\n",
    "# Perform 100 iterations and examine the final one.\n",
    "pso.execute(100)\n",
    "pso.statistics.tail(1)"
   ]
  },
  {
   "cell_type": "code",
   "execution_count": 3,
   "metadata": {
    "collapsed": false,
    "pycharm": {
     "name": "#%%\n"
    }
   },
   "outputs": [
    {
     "name": "stderr",
     "output_type": "stream",
     "text": [
      "100%|██████████| 100/100 [00:13<00:00,  7.40it/s]\n"
     ]
    },
    {
     "data": {
      "image/png": "[encoded data removed]",
      "text/plain": [
       "<Figure size 640x480 with 1 Axes>"
      ]
     },
     "metadata": {},
     "output_type": "display_data"
    }
   ],
   "source": [
    "import cify as ci\n",
    "from cify.si.pso.algorithm import BinaryPSO\n",
    "import matplotlib.pyplot as plt\n",
    "\n",
    "obj_func = ci.get_objective_function('mean-dimensions')\n",
    "pso = BinaryPSO(obj_func=obj_func, swarms=[ci.get_swarm(obj_func=obj_func)])\n",
    "\n",
    "pso.execute(100)\n",
    "plt.plot(pso.statistics['global_optimum'])\n",
    "plt.show()"
   ]
  },
  {
   "cell_type": "markdown",
   "metadata": {
    "collapsed": false,
    "pycharm": {
     "name": "#%% md\n"
    }
   },
   "source": [
    "## DE"
   ]
  },
  {
   "cell_type": "code",
   "execution_count": 1,
   "metadata": {
    "collapsed": false,
    "pycharm": {
     "name": "#%%\n"
    }
   },
   "outputs": [
    {
     "name": "stdout",
     "output_type": "stream",
     "text": [
      "CIFY: internal seed successfully set to: '0'\n"
     ]
    },
    {
     "name": "stderr",
     "output_type": "stream",
     "text": [
      "100%|██████████| 120/120 [00:04<00:00, 24.95it/s]\n"
     ]
    },
    {
     "data": {
      "image/png": "[encoded data removed]",
      "text/plain": [
       "<Figure size 640x480 with 1 Axes>"
      ]
     },
     "metadata": {},
     "output_type": "display_data"
    }
   ],
   "source": [
    "import cify as ci\n",
    "from cify.ec.de.algorithm import DE\n",
    "from matplotlib import pyplot as plt\n",
    "\n",
    "# Set seed.\n",
    "ci.set_seed(0)\n",
    "\n",
    "# Define objective function.\n",
    "obj_func = ci.get_objective_function('rosenbrock')\n",
    "\n",
    "# Create swarm and algorithm.\n",
    "population = ci.get_population(50, obj_func=obj_func)\n",
    "de = DE(obj_func, populations=[population])\n",
    "de.iterate(120)\n",
    "plt.plot(de.statistics['global_optimum'])\n",
    "plt.show()"
   ]
  },
  {
   "cell_type": "code",
   "execution_count": 19,
   "metadata": {
    "collapsed": false,
    "pycharm": {
     "name": "#%%\n"
    }
   },
   "outputs": [
    {
     "name": "stdout",
     "output_type": "stream",
     "text": [
      "[2, 4, 6, 3, 1, 5]\n",
      "chromosome: ['a' 'b' 'c' 'a' 'b' 'c' 'a' 'a' 'a' 'a'] -- value --> None\n",
      "p_best_chromosome: ['a' 'a' 'a' 'a' 'a' 'a' 'a' 'a' 'a' 'a'] -- value --> Noneobj_func: None\n",
      "\n",
      "chromosome: ['b' 'c' 'a' 'b' 'c' 'a' 'b' 'b' 'b' 'b'] -- value --> None\n",
      "p_best_chromosome: ['a' 'a' 'a' 'a' 'a' 'a' 'a' 'a' 'a' 'a'] -- value --> Noneobj_func: None\n",
      "\n"
     ]
    }
   ],
   "source": [
    "import cify as ci\n",
    "\n",
    "p1 = ci.Individual(['a', 'a', 'a', 'a', 'a', 'a', 'a', 'a', 'a', 'a'])\n",
    "p2 = ci.Individual(['b', 'b', 'b', 'b', 'b', 'b', 'b', 'b', 'b', 'b'])\n",
    "p3 = ci.Individual(['c', 'c', 'c', 'c', 'c', 'c', 'c', 'c', 'c', 'c'])\n",
    "p4 = ci.Individual(['d', 'd', 'd', 'd', 'd', 'd', 'd', 'd', 'd', 'd'])\n",
    "pop = ci.Collection([p1, p2, p3, p4])\n",
    "\n",
    "\n",
    "# offspring = ci.operators.uniform_crossover(pop, 4, 4, replace=False)\n",
    "offspring = ci.operators.npoint_crossover([p1, p2, p3], 2, 6)\n",
    "print(offspring[0])\n",
    "print(offspring[1])\n"
   ]
  },
  {
   "cell_type": "markdown",
   "metadata": {
    "collapsed": false,
    "pycharm": {
     "name": "#%% md\n"
    }
   },
   "source": [
    "### Basic PSO Example"
   ]
  },
  {
   "cell_type": "code",
   "execution_count": 1,
   "metadata": {
    "collapsed": false,
    "pycharm": {
     "name": "#%%\n"
    }
   },
   "outputs": [
    {
     "name": "stdout",
     "output_type": "stream",
     "text": [
      "CIFY: internal seed successfully set to: '0'\n"
     ]
    },
    {
     "name": "stderr",
     "output_type": "stream",
     "text": [
      "100%|██████████| 100/100 [00:17<00:00,  5.78it/s]\n"
     ]
    },
    {
     "data": {
      "image/png": "[encoded data removed]",
      "text/plain": [
       "<Figure size 640x480 with 1 Axes>"
      ]
     },
     "metadata": {},
     "output_type": "display_data"
    }
   ],
   "source": [
    "import cify\n",
    "from cify.si.pso.algorithm import InertiaWeightPSO, NichePSO\n",
    "from matplotlib import pyplot as plt\n",
    "\n",
    "# Set seed.\n",
    "cify.set_seed(0)\n",
    "\n",
    "# Define objective function.\n",
    "obj_func = cify.get_objective_function('rosenbrock', cify.Optimization.Min, 10)\n",
    "\n",
    "# Create swarm and algorithm.\n",
    "swarm = cify.get_swarm(10, obj_func=obj_func)\n",
    "swarm2 = cify.get_swarm(10, obj_func=obj_func)\n",
    "swarm3 = cify.get_swarm(10, obj_func=obj_func)\n",
    "# pso = InertiaWeightPSO(obj_func, swarms=[swarm], velocity_params={'w':0.72, 'c1':1.4, 'c2':1.4})\n",
    "pso = NichePSO(obj_func, swarms=[swarm, swarm2, swarm3], velocity_params={'w':0.72, 'c1':1.4, 'c2':1.4})\n",
    "pso.execute(100)\n",
    "plt.plot(pso.statistics['global_optimum'])\n",
    "plt.show()\n",
    "\n",
    "# Create execution task.\n",
    "# task = cify.Task(pso, obj_func, n_iterations=100, log=False)\n",
    "# task.execute()\n"
   ]
  },
  {
   "cell_type": "markdown",
   "metadata": {
    "collapsed": false,
    "pycharm": {
     "name": "#%% md\n"
    }
   },
   "source": [
    "### Testing EA and GA"
   ]
  },
  {
   "cell_type": "code",
   "execution_count": 3,
   "metadata": {
    "collapsed": false,
    "pycharm": {
     "name": "#%%\n"
    }
   },
   "outputs": [
    {
     "name": "stdout",
     "output_type": "stream",
     "text": [
      "CIFY: internal seed successfully set to: '18293'\n"
     ]
    },
    {
     "name": "stderr",
     "output_type": "stream",
     "text": [
      "100%|██████████| 100/100 [00:07<00:00, 14.22it/s]\n"
     ]
    },
    {
     "data": {
      "image/png": "[encoded data removed]",
      "text/plain": [
       "<Figure size 640x480 with 1 Axes>"
      ]
     },
     "metadata": {},
     "output_type": "display_data"
    }
   ],
   "source": [
    "import cify as ci\n",
    "from cify.ec.ea.algorithm import EA\n",
    "from cify.ec.ga.algorithm import GA, HollandsCanonicalGA\n",
    "from matplotlib import pyplot as plt\n",
    "\n",
    "ci.set_seed(18293)\n",
    "\n",
    "obj_func = ci.get_objective_function('schwefel', ci.Optimization.Min, 10)\n",
    "\n",
    "# def evaluate(vector):\n",
    "#     misses = 0\n",
    "#     for character in vector:\n",
    "#         if character != 'a':\n",
    "#             misses += 1\n",
    "#     return misses\n",
    "# obj_func = ci.ObjectiveFunction(function=evaluate, n_dimensions=4)\n",
    "# population = ci.Collection([\n",
    "#     ci.Individual(['a', 'b', 'c', 'd'], obj_func=obj_func),\n",
    "#     ci.Individual(['b', 'a', 'c', 'd'], obj_func=obj_func),\n",
    "#     ci.Individual(['a', 'b', 'a', 'd'], obj_func=obj_func),\n",
    "#     ci.Individual(['b', 'a', 'd', 'a'], obj_func=obj_func),\n",
    "# ])\n",
    "populations = ci.get_populations(3, obj_func=obj_func)\n",
    "\n",
    "# ea = EA(obj_func, [ci.get_population(3, obj_func.n_dimensions, obj_func)])\n",
    "# ea = EA(obj_func, populations,\n",
    "#         crossover_operator=ci.operators.hillclimbing_crossover,\n",
    "#         crossover_params={'crossover_probability': 0.9,\n",
    "#                           'max_attempts': 10},\n",
    "#         selection_operator=ci.operators.tournament_selection,\n",
    "#         selection_params={'t_size': 25})\n",
    "\n",
    "# ga = GA(obj_func, [ci.get_population(120, obj_func=obj_func)],\n",
    "#         crossover_operator=ci.operators.linear_crossover,\n",
    "#         selection_operator=ci.operators.proportional_selection,\n",
    "#         selection_params={'replace': True},\n",
    "#         # selection_params={'t_size': 30},\n",
    "#         mutation_params={'mutation_range': 1000.0})\n",
    "\n",
    "ga = HollandsCanonicalGA(obj_func, [ci.get_population(120, obj_func=obj_func)])\n",
    "\n",
    "ga.iterate(100, log=False)\n",
    "plt.plot(ga.statistics['best'])\n",
    "plt.plot(ga.statistics['mean'])\n",
    "plt.show()\n"
   ]
  },
  {
   "cell_type": "code",
   "execution_count": null,
   "metadata": {
    "collapsed": false,
    "pycharm": {
     "name": "#%%\n"
    }
   },
   "outputs": [],
   "source": []
  },
  {
   "cell_type": "markdown",
   "metadata": {
    "collapsed": false,
    "pycharm": {
     "name": "#%% md\n"
    }
   },
   "source": [
    "### Testing Task and Runner"
   ]
  },
  {
   "cell_type": "code",
   "execution_count": 1,
   "metadata": {
    "collapsed": false,
    "pycharm": {
     "name": "#%%\n"
    }
   },
   "outputs": [
    {
     "name": "stdout",
     "output_type": "stream",
     "text": [
      "CIFY: internal seed successfully set to: '0'\n",
      "================================================================================\n",
      "                          Runner Summary (4918376096)                         \n",
      "================================================================================\n",
      "Algorithm                          ObjectiveFunction                  Type      \n",
      "--------------------------------------------------------------------------------\n",
      "1    InertiaWeightPSO              rosenbrock                         Minimizing\n",
      "2    InertiaWeightPSO              rosenbrock                         Minimizing\n",
      "3    InertiaWeightPSO              rosenbrock                         Minimizing\n",
      "4    InertiaWeightPSO              rosenbrock                         Minimizing\n",
      "5    InertiaWeightPSO              rosenbrock                         Minimizing\n",
      "6    InertiaWeightPSO              schwefel                           Minimizing\n",
      "7    InertiaWeightPSO              schwefel                           Minimizing\n",
      "8    InertiaWeightPSO              schwefel                           Minimizing\n",
      "9    InertiaWeightPSO              schwefel                           Minimizing\n",
      "10   InertiaWeightPSO              schwefel                           Minimizing\n",
      "--------------------------------------------------------------------------------\n",
      "\n"
     ]
    }
   ],
   "source": [
    "import cify\n",
    "from cify.si.pso.algorithm import InertiaWeightPSO\n",
    "from cify.ec.ea.algorithm import EA\n",
    "\n",
    "# Set seed.\n",
    "cify.set_seed(0)\n",
    "\n",
    "# 1. Define objective functions.\n",
    "obj_func = cify.get_objective_function('rosenbrock', cify.Optimization.Min, 10)\n",
    "obj_func2 = cify.get_objective_function('schwefel', cify.Optimization.Min, 10)\n",
    "# obj_func3 = cify.get_objective_function('qing', cify.Optimization.Min, 10)\n",
    "\n",
    "# 2. Define Collections.\n",
    "swarm = cify.get_swarm(10, obj_func=obj_func)\n",
    "swarm.append(cify.Particle(position=[0, 0, 0, 0, 0, 0, 0, 0, 0, 0.], name='frank', accent='french', obj_func=obj_func))\n",
    "populations = cify.get_populations(2, 100, obj_func=obj_func)\n",
    "\n",
    "# 3. Define Algorithms\n",
    "ea1 = EA(obj_func, [cify.get_population(100, obj_func.n_dimensions, obj_func)], name='evo1')\n",
    "ea2 = EA(obj_func, [cify.get_population(10, obj_func.n_dimensions, obj_func)], name='ea2')\n",
    "pso = InertiaWeightPSO(obj_func, swarms=[swarm], w=0.72, c1=1.4, c2=1.4)\n",
    "\n",
    "# Creating Runner and adding to pools.\n",
    "runner = cify.Runner()\n",
    "runner.add(pso)\n",
    "# runner.add(ea1)\n",
    "# runner.add(ea2)\n",
    "runner.add(obj_func)\n",
    "runner.add(obj_func2)\n",
    "# runner.add(obj_func3)\n",
    "runner.compile(n_independent_runs=5, n_iterations=100, relationship='one-to-many')\n",
    "print(runner.summary())"
   ]
  },
  {
   "cell_type": "markdown",
   "metadata": {
    "collapsed": false,
    "pycharm": {
     "name": "#%% md\n"
    }
   },
   "source": [
    "### Using Utility Functions"
   ]
  },
  {
   "cell_type": "code",
   "execution_count": 2,
   "metadata": {
    "collapsed": false,
    "pycharm": {
     "name": "#%%\n"
    }
   },
   "outputs": [],
   "source": [
    "# Define obj_func, swarms, and algorithm to solve obj_func using swarms.\n",
    "# rng = cify.rng()\n",
    "# obj_func = cify.get_objective_function(\"rosenbrock\", n_dimensions=30)\n",
    "# swarm = cify.get_swarm(n_particles=30, obj_func=obj_func, rng=rng)\n",
    "# n_iterations = 500\n",
    "#\n",
    "#\n",
    "# def local_best_pso():\n",
    "#     return InertiaWeightPSO(\n",
    "#         obj_func=obj_func,\n",
    "#         swarms=swarm,\n",
    "#         topology=ring_topology,\n",
    "#         w=0.72, c1=1.4, c2=1.4, n_size=3,\n",
    "#         rng=rng\n",
    "#     )\n",
    "#\n",
    "#\n",
    "# def inertia_pso_basic():\n",
    "#     swarm2 = cify.get_swarm(n_particles=10, obj_func=obj_func, rng=rng)\n",
    "#     return InertiaWeightPSO(obj_func=obj_func, swarms=[swarm, swarm2], w=0.72, c1=1.4, c2=1.4, rng=rng)\n",
    "#\n",
    "#\n",
    "# def differential_evolution():\n",
    "#     population = cify.get_population(n_individuals=30, obj_func=obj_func, rng=rng)\n",
    "#     return DE(obj_func=obj_func, population=population, rng=rng)\n"
   ]
  }
 ],
 "metadata": {
  "kernelspec": {
   "display_name": "Python 3.9.13 ('.venv': venv)",
   "language": "python",
   "name": "python3"
  },
  "language_info": {
   "codemirror_mode": {
    "name": "ipython",
    "version": 3
   },
   "file_extension": ".py",
   "mimetype": "text/x-python",
   "name": "python",
   "nbconvert_exporter": "python",
   "pygments_lexer": "ipython3",
   "version": "3.9.13"
  },
  "vscode": {
   "interpreter": {
    "hash": "a4ca11644b38690460451110dc7257a4d173f442ae3052271864412f94ce6cfb"
   }
  }
 },
 "nbformat": 4,
 "nbformat_minor": 0
}