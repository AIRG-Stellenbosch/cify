{
 "cells": [
  {
   "cell_type": "markdown",
   "source": [
    "# Tutorial\n",
    "\n",
    "This basic tutorial is aimed at walking you through the different parts of CIFY (Computational Intelligence Framework for pYthon). Throughout the tutorial you will see practical examples represented through blocks of code. These blocks of code are verified during the documentation processing and will always be up-to-date with the referenced version of CIFY. By the end of the tutorial, you will have built your first algorithm in CIFY.\n",
    "\n",
    "## Position\n",
    "\n",
    "The vectors within a population-based optimization algorithm (such as evolutionary and swarm-intelligence algorithms) represent the possible solutions to the current optimization problem. These \"candidate solutions\" are locations within the problem search space which the optimization problem is currently evaluating. Candidate solutions in CIFY are represented by the `Position` class."
   ],
   "metadata": {
    "collapsed": false
   }
  },
  {
   "cell_type": "code",
   "execution_count": 1,
   "outputs": [
    {
     "name": "stdout",
     "output_type": "stream",
     "text": [
      "[1 2 3 4 5] -> None\n"
     ]
    }
   ],
   "source": [
    "from cify import Position\n",
    "position = Position([1, 2, 3, 4, 5])\n",
    "print(position)"
   ],
   "metadata": {
    "collapsed": false
   }
  },
  {
   "cell_type": "markdown",
   "source": [
    "In the code above, we have just created our first `Position`. Alternatively, we could have created the position from a numpy array."
   ],
   "metadata": {
    "collapsed": false
   }
  },
  {
   "cell_type": "code",
   "execution_count": 2,
   "outputs": [
    {
     "name": "stdout",
     "output_type": "stream",
     "text": [
      "[1 2 3 4 5] -> None\n"
     ]
    }
   ],
   "source": [
    "import numpy as np\n",
    "position = Position(np.array([1, 2, 3, 4, 5]))\n",
    "print(position)"
   ],
   "metadata": {
    "collapsed": false
   }
  },
  {
   "cell_type": "markdown",
   "source": [
    "The `Position` class uses numpy to store the decision vector and will convert any list-type inputs into numpy arrays. Notice the `None` on the right hand side of the output — this is the objective function value of the decision vector. Since we hane not yet evaluated the decision vector, the value of the position is `None`. Let's define a function to evaluate the position."
   ],
   "metadata": {
    "collapsed": false
   }
  },
  {
   "cell_type": "code",
   "execution_count": 3,
   "outputs": [
    {
     "data": {
      "text/plain": "55"
     },
     "execution_count": 3,
     "metadata": {},
     "output_type": "execute_result"
    }
   ],
   "source": [
    "f = lambda vector: np.sum(vector ** 2)\n",
    "position.eval(f)"
   ],
   "metadata": {
    "collapsed": false
   }
  },
  {
   "cell_type": "markdown",
   "source": [
    "`position(f)` is also a valid approach to evaluating the decision vector. Now, let's inspect the value of the position."
   ],
   "metadata": {
    "collapsed": false
   }
  },
  {
   "cell_type": "code",
   "execution_count": 4,
   "outputs": [
    {
     "data": {
      "text/plain": "55"
     },
     "execution_count": 4,
     "metadata": {},
     "output_type": "execute_result"
    }
   ],
   "source": [
    "position.value"
   ],
   "metadata": {
    "collapsed": false
   }
  },
  {
   "cell_type": "markdown",
   "source": [
    "Modifications to the position reset the objective function value since that value is no longer a result of the decision vector."
   ],
   "metadata": {
    "collapsed": false
   }
  },
  {
   "cell_type": "code",
   "execution_count": 5,
   "outputs": [
    {
     "name": "stdout",
     "output_type": "stream",
     "text": [
      "[1 2 3 4 5] -> 55\n",
      "[2 3 4 5 6] -> None\n"
     ]
    }
   ],
   "source": [
    "print(position)\n",
    "position = position + 1\n",
    "print(position)"
   ],
   "metadata": {
    "collapsed": false
   }
  },
  {
   "cell_type": "markdown",
   "source": [
    "The `Position` class supports arithmetic operators like `+`, `-`, `*` and `/`, as well as comparison operators like `>`, `<`, `=>` and `<=`. For example:"
   ],
   "metadata": {
    "collapsed": false
   }
  },
  {
   "cell_type": "code",
   "execution_count": 6,
   "outputs": [
    {
     "data": {
      "text/plain": "True"
     },
     "execution_count": 6,
     "metadata": {},
     "output_type": "execute_result"
    }
   ],
   "source": [
    "a = Position(np.random.uniform(0.0, 1.0, 10))\n",
    "b = Position(np.random.uniform(0.0, 1.0, 10))\n",
    "b += 1\n",
    "a(f)\n",
    "b(f)\n",
    "a < b"
   ],
   "metadata": {
    "collapsed": false
   }
  },
  {
   "cell_type": "markdown",
   "source": [
    "## Objective Function\n",
    "\n",
    "The second class we'll look at is the `ObjectiveFunction` class which represents a function to be optimized."
   ],
   "metadata": {
    "collapsed": false
   }
  },
  {
   "cell_type": "code",
   "execution_count": 7,
   "outputs": [
    {
     "name": "stdout",
     "output_type": "stream",
     "text": [
      "Minimizing: sphere\n",
      "Bounds: [[0.0, 1.0], [0.0, 1.0], [0.0, 1.0], [0.0, 1.0], [0.0, 1.0], [0.0, 1.0], [0.0, 1.0], [0.0, 1.0], [0.0, 1.0], [0.0, 1.0]]\n"
     ]
    }
   ],
   "source": [
    "from cify import ObjectiveFunction, Optimization\n",
    "f = lambda vector: np.sum(vector ** 2)\n",
    "bounds = [0.0, 1.0]\n",
    "dim = 10\n",
    "sphere_of = ObjectiveFunction(f, bounds, dim, Optimization.Min, \"sphere\")\n",
    "print(sphere_of)"
   ],
   "metadata": {
    "collapsed": false
   }
  },
  {
   "cell_type": "markdown",
   "source": [
    "We could have also initialized the same `ObjectiveFunction` as follows:"
   ],
   "metadata": {
    "collapsed": false
   }
  },
  {
   "cell_type": "code",
   "execution_count": 8,
   "outputs": [
    {
     "name": "stdout",
     "output_type": "stream",
     "text": [
      "Minimizing: sphere\n",
      "Bounds: [[0, 1], [0, 1], [0, 1], [0, 1], [0, 1]]\n"
     ]
    }
   ],
   "source": [
    "def sphere(vector):\n",
    "    return np.sum(vector ** 2)\n",
    "\n",
    "sphere_of = ObjectiveFunction(sphere, [0, 1], 5, Optimization.Min)\n",
    "print(sphere_of)"
   ],
   "metadata": {
    "collapsed": false
   }
  },
  {
   "cell_type": "markdown",
   "source": [
    "Notice that if a name is not passed to the `ObjectiveFunction` on initialization, then the name of the function is used.\n",
    "\n",
    "We can also use an `ObjectiveFunction` to create a `Position` where the `Position` class will uniformly sample a vector from the bounds of the optimization problem.\n"
   ],
   "metadata": {
    "collapsed": false
   }
  },
  {
   "cell_type": "code",
   "execution_count": 9,
   "outputs": [
    {
     "name": "stdout",
     "output_type": "stream",
     "text": [
      "[0.16572603 0.60590114 0.81778646 0.25447678 0.98203471] -> 2.0925066062457716\n"
     ]
    }
   ],
   "source": [
    "position = Position(sphere_of)\n",
    "print(position)"
   ],
   "metadata": {
    "collapsed": false
   }
  },
  {
   "cell_type": "markdown",
   "source": [
    "## Optimization\n",
    "\n",
    "In the previous section, we briefly glossed over the `Optimization` in `sphere_of = ObjectiveFunction(f, bounds, dim, Optimization.Min, \"sphere\")`. `Optimization` is an `enum` (with `Min` and `Max`) in CIFY used to represent minimization and maximization. `Optimization` is used for all comparison functions in CIFY. For example"
   ],
   "metadata": {
    "collapsed": false
   }
  },
  {
   "cell_type": "code",
   "execution_count": 10,
   "outputs": [
    {
     "name": "stdout",
     "output_type": "stream",
     "text": [
      "0.22815837251598997\n",
      "0.5115439199645249\n"
     ]
    },
    {
     "data": {
      "text/plain": "True"
     },
     "execution_count": 10,
     "metadata": {},
     "output_type": "execute_result"
    }
   ],
   "source": [
    "a = np.random.uniform(0.0, 0.5)\n",
    "b = np.random.uniform(0.5, 1.0)\n",
    "print(a)\n",
    "print(b)\n",
    "opt = Optimization.Min\n",
    "opt.cmp(a, b)"
   ],
   "metadata": {
    "collapsed": false
   }
  },
  {
   "cell_type": "markdown",
   "source": [
    "We can also use `Optimization` to return the better value for that optimization type."
   ],
   "metadata": {
    "collapsed": false
   }
  },
  {
   "cell_type": "code",
   "execution_count": 11,
   "outputs": [
    {
     "data": {
      "text/plain": "0.22815837251598997"
     },
     "execution_count": 11,
     "metadata": {},
     "output_type": "execute_result"
    }
   ],
   "source": [
    "opt.best(a, b)"
   ],
   "metadata": {
    "collapsed": false
   }
  },
  {
   "cell_type": "markdown",
   "source": [
    "The next sections discuss classes that are designed for convenience when building and running algorithms in CIFY."
   ],
   "metadata": {
    "collapsed": false
   }
  },
  {
   "cell_type": "markdown",
   "source": [
    "## Algorithm\n",
    "\n",
    "CIFY provides a minimal class for implementing algorithms, i.e. `Algorithm`. The only method that you need to implement is `iterate` which represents a single iteration of an algorithm. Let's implement a genetic algorithm using the methods provided by the `CIFY` ga package."
   ],
   "metadata": {
    "collapsed": false
   }
  },
  {
   "cell_type": "code",
   "execution_count": 12,
   "outputs": [],
   "source": [
    "from cify import Algorithm\n",
    "from cify.ga import mutate, top, uniform_crossover\n",
    "\n",
    "class GA(Algorithm):\n",
    "    def __init__(self, n: int,\n",
    "                 f: ObjectiveFunction,\n",
    "                 pc: float = 0.5,\n",
    "                 pm: float = 0.5,\n",
    "                 ms: float = 0.15):\n",
    "        \"\"\"\n",
    "        pc: probability of crossover (favoring parent a)\n",
    "        pm: probability of mutation\n",
    "        ms: mutation severity, e.g +- 15%.\n",
    "        \"\"\"\n",
    "        super().__init__()\n",
    "        self.individuals = [Position(f) for _ in range(n)]\n",
    "        self.pm = pm\n",
    "        self.pc = pc\n",
    "        self.ms = ms\n",
    "\n",
    "    def iterate(self, f: ObjectiveFunction):\n",
    "        n = len(self.individuals) // 2\n",
    "        elite = top(n, self.individuals, f.opt)\n",
    "        next_gen = []\n",
    "        for parent_a in elite:\n",
    "            parent_b_idx = int(np.random.uniform(0, len(elite) - 1))\n",
    "            parent_b = elite[parent_b_idx]\n",
    "            child_1, child_2 = uniform_crossover(parent_a, parent_b, self.pc)\n",
    "            child_1 = mutate(child_1, self.pm, self.ms)\n",
    "            child_2 = mutate(child_1, self.pm, self.ms)\n",
    "            child_1(f)\n",
    "            child_2(f)\n",
    "            next_gen.append(child_1)\n",
    "            next_gen.append(child_2)\n",
    "\n",
    "        self.individuals = next_gen"
   ],
   "metadata": {
    "collapsed": false
   }
  },
  {
   "cell_type": "markdown",
   "source": [
    "## Task\n",
    "\n",
    "The last CIFY class to discuss is `Task`. `Task` is used as a convenient way to run your algorithms. Let's use our `GA` to optimize the `sphere` function."
   ],
   "metadata": {
    "collapsed": false
   }
  },
  {
   "cell_type": "code",
   "execution_count": 13,
   "outputs": [
    {
     "name": "stderr",
     "output_type": "stream",
     "text": [
      "\u001B[32m09:26:55\u001B[0m INFO \u001B[1m\u001B[34mGA\u001B[0m\u001B[1m Minimizing sphere [\u001B[33m10.00%\u001B[0m\u001B[1m]: 0.161 -- Iterations: 100/1000, Evaluations: 3031, Time Taken: 0.101s, ETA: 0.911s\u001B[0m\n",
      "\u001B[32m09:26:55\u001B[0m INFO \u001B[1m\u001B[34mGA\u001B[0m\u001B[1m Minimizing sphere [\u001B[33m20.00%\u001B[0m\u001B[1m]: 0.096 -- Iterations: 200/1000, Evaluations: 6031, Time Taken: 0.162s, ETA: 0.647s\u001B[0m\n",
      "\u001B[32m09:26:55\u001B[0m INFO \u001B[1m\u001B[34mGA\u001B[0m\u001B[1m Minimizing sphere [\u001B[33m30.00%\u001B[0m\u001B[1m]: 0.044 -- Iterations: 300/1000, Evaluations: 9031, Time Taken: 0.220s, ETA: 0.514s\u001B[0m\n",
      "\u001B[32m09:26:55\u001B[0m INFO \u001B[1m\u001B[34mGA\u001B[0m\u001B[1m Minimizing sphere [\u001B[33m40.00%\u001B[0m\u001B[1m]: 0.047 -- Iterations: 400/1000, Evaluations: 12031, Time Taken: 0.280s, ETA: 0.420s\u001B[0m\n",
      "\u001B[32m09:26:55\u001B[0m INFO \u001B[1m\u001B[34mGA\u001B[0m\u001B[1m Minimizing sphere [\u001B[33m50.00%\u001B[0m\u001B[1m]: 0.182 -- Iterations: 500/1000, Evaluations: 15031, Time Taken: 0.338s, ETA: 0.338s\u001B[0m\n",
      "\u001B[32m09:26:55\u001B[0m INFO \u001B[1m\u001B[34mGA\u001B[0m\u001B[1m Minimizing sphere [\u001B[33m60.00%\u001B[0m\u001B[1m]: 0.046 -- Iterations: 600/1000, Evaluations: 18031, Time Taken: 0.394s, ETA: 0.263s\u001B[0m\n",
      "\u001B[32m09:26:55\u001B[0m INFO \u001B[1m\u001B[34mGA\u001B[0m\u001B[1m Minimizing sphere [\u001B[33m70.00%\u001B[0m\u001B[1m]: 0.040 -- Iterations: 700/1000, Evaluations: 21031, Time Taken: 0.456s, ETA: 0.196s\u001B[0m\n",
      "\u001B[32m09:26:55\u001B[0m INFO \u001B[1m\u001B[34mGA\u001B[0m\u001B[1m Minimizing sphere [\u001B[33m80.00%\u001B[0m\u001B[1m]: 0.122 -- Iterations: 800/1000, Evaluations: 24031, Time Taken: 0.516s, ETA: 0.129s\u001B[0m\n",
      "\u001B[32m09:26:55\u001B[0m INFO \u001B[1m\u001B[34mGA\u001B[0m\u001B[1m Minimizing sphere [\u001B[33m90.00%\u001B[0m\u001B[1m]: 0.025 -- Iterations: 900/1000, Evaluations: 27031, Time Taken: 0.574s, ETA: 0.064s\u001B[0m\n",
      "\u001B[32m09:26:55\u001B[0m INFO \u001B[1m\u001B[34mGA\u001B[0m\u001B[1m Minimizing sphere [\u001B[33m100.00%\u001B[0m\u001B[1m]: 0.031 -- Iterations: 1000/1000, Evaluations: 30031, Time Taken: 0.634s, ETA: 0.000s\u001B[0m\n"
     ]
    }
   ],
   "source": [
    "from cify import Task\n",
    "ga = GA(30, sphere_of)\n",
    "task = Task(ga, sphere_of, max_iterations=1000, log_iterations=100)\n",
    "task.run()"
   ],
   "metadata": {
    "collapsed": false
   }
  },
  {
   "cell_type": "markdown",
   "source": [
    "The `Task` class logs useful information, like the name of the algorithm, the name of the objective function, the last evaluated objective value, the number of iterations, the number of evaluations, the time taken and an ETA for when the run will complete. We can also define a metric to evaluate the performance of our `GA`. Our metric will track the best objective function value at the end of each iteration."
   ],
   "metadata": {
    "collapsed": false
   }
  },
  {
   "cell_type": "code",
   "execution_count": 16,
   "outputs": [
    {
     "name": "stderr",
     "output_type": "stream",
     "text": [
      "\u001B[32m09:28:55\u001B[0m INFO \u001B[1m\u001B[34mGA\u001B[0m\u001B[1m Minimizing sphere [\u001B[33m10.00%\u001B[0m\u001B[1m]: 0.039 -- Iterations: 100/1000, Evaluations: 63151, Time Taken: 0.075s, ETA: 0.674s\u001B[0m\n",
      "\u001B[32m09:28:55\u001B[0m INFO \u001B[1m\u001B[34mGA\u001B[0m\u001B[1m Minimizing sphere [\u001B[33m20.00%\u001B[0m\u001B[1m]: 0.069 -- Iterations: 200/1000, Evaluations: 66151, Time Taken: 0.134s, ETA: 0.535s\u001B[0m\n",
      "\u001B[32m09:28:55\u001B[0m INFO \u001B[1m\u001B[34mGA\u001B[0m\u001B[1m Minimizing sphere [\u001B[33m30.00%\u001B[0m\u001B[1m]: 0.050 -- Iterations: 300/1000, Evaluations: 69151, Time Taken: 0.198s, ETA: 0.461s\u001B[0m\n",
      "\u001B[32m09:28:56\u001B[0m INFO \u001B[1m\u001B[34mGA\u001B[0m\u001B[1m Minimizing sphere [\u001B[33m40.00%\u001B[0m\u001B[1m]: 0.038 -- Iterations: 400/1000, Evaluations: 72151, Time Taken: 0.261s, ETA: 0.391s\u001B[0m\n",
      "\u001B[32m09:28:56\u001B[0m INFO \u001B[1m\u001B[34mGA\u001B[0m\u001B[1m Minimizing sphere [\u001B[33m50.00%\u001B[0m\u001B[1m]: 0.071 -- Iterations: 500/1000, Evaluations: 75151, Time Taken: 0.329s, ETA: 0.329s\u001B[0m\n",
      "\u001B[32m09:28:56\u001B[0m INFO \u001B[1m\u001B[34mGA\u001B[0m\u001B[1m Minimizing sphere [\u001B[33m60.00%\u001B[0m\u001B[1m]: 0.067 -- Iterations: 600/1000, Evaluations: 78151, Time Taken: 0.391s, ETA: 0.261s\u001B[0m\n",
      "\u001B[32m09:28:56\u001B[0m INFO \u001B[1m\u001B[34mGA\u001B[0m\u001B[1m Minimizing sphere [\u001B[33m70.00%\u001B[0m\u001B[1m]: 0.073 -- Iterations: 700/1000, Evaluations: 81151, Time Taken: 0.457s, ETA: 0.196s\u001B[0m\n",
      "\u001B[32m09:28:56\u001B[0m INFO \u001B[1m\u001B[34mGA\u001B[0m\u001B[1m Minimizing sphere [\u001B[33m80.00%\u001B[0m\u001B[1m]: 0.095 -- Iterations: 800/1000, Evaluations: 84151, Time Taken: 0.517s, ETA: 0.129s\u001B[0m\n",
      "\u001B[32m09:28:56\u001B[0m INFO \u001B[1m\u001B[34mGA\u001B[0m\u001B[1m Minimizing sphere [\u001B[33m90.00%\u001B[0m\u001B[1m]: 0.080 -- Iterations: 900/1000, Evaluations: 87151, Time Taken: 0.582s, ETA: 0.065s\u001B[0m\n",
      "\u001B[32m09:28:56\u001B[0m INFO \u001B[1m\u001B[34mGA\u001B[0m\u001B[1m Minimizing sphere [\u001B[33m100.00%\u001B[0m\u001B[1m]: 0.096 -- Iterations: 1000/1000, Evaluations: 90151, Time Taken: 0.646s, ETA: 0.000s\u001B[0m\n"
     ]
    },
    {
     "name": "stdout",
     "output_type": "stream",
     "text": [
      "[-0.01738754 -0.11363236  0.08984333 -0.03242385  0.00879912] -> 0.0224151960273968\n"
     ]
    }
   ],
   "source": [
    "def metric(ga: GA, f: ObjectiveFunction) -> float:\n",
    "    return sorted(ga.individuals)[0]\n",
    "\n",
    "ga = GA(30, sphere_of)\n",
    "task = Task(ga, sphere_of, max_iterations=1000, log_iterations=100, metrics=[(\"best_of_value\", metric)])\n",
    "task.run()\n",
    "print(task.results[\"best_of_value\"][-1])"
   ],
   "metadata": {
    "collapsed": false
   }
  },
  {
   "cell_type": "markdown",
   "source": [
    "Lastly, you can also run algorithms in a style similar to pytorch. This gives you more granular control over how the algorithm should be run. For example, if we wanted to update the bounds of the objective function every 100 iterations we could write"
   ],
   "metadata": {
    "collapsed": false
   }
  },
  {
   "cell_type": "code",
   "execution_count": 17,
   "outputs": [],
   "source": [
    "task.start()\n",
    "while not task.stopping_condition():\n",
    "    ga.iterate(task.f)\n",
    "    if task.iteration % 100 == 0:\n",
    "        task.f.bounds = [task.iteration / 10, task.iteration / 100] * dim\n",
    "    task.next_iteration()\n",
    "task.end()"
   ],
   "metadata": {
    "collapsed": false
   }
  },
  {
   "cell_type": "markdown",
   "source": [
    "## conclusion\n",
    "\n",
    "Thank you for taking the time to read the tutorial. If you have any further questions, please reach out or ask a question on the GitHub discussions page."
   ],
   "metadata": {
    "collapsed": false
   }
  }
 ],
 "metadata": {
  "kernelspec": {
   "display_name": "Python 3",
   "language": "python",
   "name": "python3"
  },
  "language_info": {
   "codemirror_mode": {
    "name": "ipython",
    "version": 2
   },
   "file_extension": ".py",
   "mimetype": "text/x-python",
   "name": "python",
   "nbconvert_exporter": "python",
   "pygments_lexer": "ipython2",
   "version": "2.7.6"
  }
 },
 "nbformat": 4,
 "nbformat_minor": 0
}
