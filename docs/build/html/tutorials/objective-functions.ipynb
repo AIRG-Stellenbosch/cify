{
 "cells": [
  {
   "cell_type": "markdown",
   "id": "3481d0a2",
   "metadata": {
    "pycharm": {
     "name": "#%% md\n"
    }
   },
   "source": [
    "# Objective Functions\n",
    "\n",
    "This Jupyter notebook shows how we can use CIFY to get pre-defined common benchmark objective functions or define different types of custom `ObjectiveFunction`s. `ObjectiveFunction`s can be static or dynamic and can have only a single objective or contain multiple objectives. They can also have constraints on their boundaries or on vectors in the search space that can be static or dynamic. An objective function can contain one or more of these characteristics and CIFY makes it easy to add or remove characteristics. First we must import cify. We will also set a seed for the global random number generator that will be used by objects that use stochastic operations. This step is not necessary if you do not care for repeatability, however it is recommended, especially if you wish to use CIFY for research work. Once the seed is set, you can forget about it."
   ]
  },
  {
   "cell_type": "code",
   "execution_count": 1,
   "id": "94ca31ae",
   "metadata": {
    "pycharm": {
     "name": "#%%\n"
    }
   },
   "outputs": [
    {
     "name": "stdout",
     "output_type": "stream",
     "text": [
      "CIFY: internal seed successfully set to: '0'\n"
     ]
    }
   ],
   "source": [
    "# To install cify via pip:\n",
    "# ! pip install cify\n",
    "import cify as ci\n",
    "\n",
    "ci.set_seed(0)"
   ]
  },
  {
   "cell_type": "markdown",
   "id": "6ff79646",
   "metadata": {
    "pycharm": {
     "name": "#%% md\n"
    }
   },
   "source": [
    "Once we have cify imported, we can begin to define an objective function that we wish to optimize. Generally, the flow of optimizing an objective function using CIFY can be described by defining the following:\n",
    "\n",
    "1. The `ObjectiveFunction` we wish to optimize.\n",
    "1. A `Collection` or multiple `Collection`s of `Agent`s for the `ObjectiveFunction`.\n",
    "1. An `Algorithm` to solve the `ObjectiveFunction` using the defined `Collection` or `Collection`s.\n",
    "\n",
    "Once these high-level components are defined, we can simply call the `iterate()` method of the algorithm. This method takes various parameters, and it is recommended to consult the API documentation page (by searching for `iterate()` or finding the page manually in `core.base_class.Algorithm`) for more information. For this tutorial, we will only use `iterate(500)`, where `500` is the number of iterations to perform.\n",
    "\n",
    "You may also use the `execute()` method of the algorithm, it is essentially just a wrapper method for `iterate()`.\n",
    "\n",
    "## Provided Benchmark Objective Functions\n",
    "\n",
    "CIFY ships with a useful utility function `get_objective_function()` that returns an `ObjectiveFunction` object. For a list of provided benchmark objective functions check out the Benchmark Objective Functions page. An example usage of this function is shown below."
   ]
  },
  {
   "cell_type": "code",
   "execution_count": 5,
   "id": "2cad268c",
   "metadata": {
    "pycharm": {
     "name": "#%%\n"
    }
   },
   "outputs": [
    {
     "data": {
      "text/plain": [
       "<cify.core.objective_function.ObjectiveFunction at 0x137229c40>"
      ]
     },
     "execution_count": 5,
     "metadata": {},
     "output_type": "execute_result"
    }
   ],
   "source": [
    "ci.get_objective_function('schwefel', ci.Optimization.Min, n_dimensions=5)"
   ]
  },
  {
   "cell_type": "markdown",
   "id": "6d54afb9",
   "metadata": {
    "pycharm": {
     "name": "#%% md\n"
    }
   },
   "source": [
    "## Custom Objective Functions\n",
    "\n",
    "We can also define custom objective functions. We will explore six characteristics of objective functions in CIFY whilst building an `ObjectiveFunction` that will have all six characteristics.\n",
    "\n",
    "### 1. Unconstrained\n",
    "\n",
    "An unconstrained single objective optimization (SOO) objective function is the most basic of all objective functions. We only need to give the function, optimization type and random number generator. If you do not care about repeatability, no random number generator needs to be passed as a default option will be used. First, we define the function we want to optimize. We'll only be using a simple exponential function for this example."
   ]
  },
  {
   "cell_type": "code",
   "execution_count": 7,
   "id": "fd9987fc",
   "metadata": {
    "pycharm": {
     "name": "#%%\n"
    }
   },
   "outputs": [],
   "source": [
    "def exp_function(vector):\n",
    "    total = 0\n",
    "    for i in range(len(vector)):\n",
    "        total += vector[i] ** 2\n",
    "    return 2 ** total"
   ]
  },
  {
   "cell_type": "markdown",
   "id": "9f615f7b",
   "metadata": {
    "pycharm": {
     "name": "#%% md\n"
    }
   },
   "source": [
    "**NOTE: Our function only takes a vector as a parameter!**\n",
    "\n",
    "It is important to follow this standard as all the inner workings of the framework expect the function of an `ObjectiveFunction` object to only take a vector as a parameter. Once we've defined our function, we can create the `ObjectiveFunction` object. We'll pass our function, set minimization as our optimization type, pass `5` as our number of dimensions and pass the random number generator defined earlier. We'll create a new variable, `obj_func`, from our new `ObjectiveFunction` so that we can change it later on."
   ]
  },
  {
   "cell_type": "code",
   "execution_count": 9,
   "id": "0666f146",
   "metadata": {
    "pycharm": {
     "name": "#%%\n"
    }
   },
   "outputs": [],
   "source": [
    "obj_func = ci.ObjectiveFunction(function=exp_function,\n",
    "                                  optimization=ci.Optimization.Min,\n",
    "                                  n_dimensions=5\n",
    "                                  )"
   ]
  },
  {
   "cell_type": "markdown",
   "id": "64667ae4",
   "metadata": {
    "pycharm": {
     "name": "#%% md\n"
    }
   },
   "source": [
    "### 2. Boundary Constrained\n",
    "\n",
    "What if we wish to add boundary constraints? There are two approaches to achieve this. We could redefine our `ObjectiveFunction` to have boundary constraints:"
   ]
  },
  {
   "cell_type": "code",
   "execution_count": 10,
   "id": "b49d865b",
   "metadata": {
    "pycharm": {
     "name": "#%%\n"
    }
   },
   "outputs": [
    {
     "data": {
      "text/plain": [
       "<cify.core.objective_function.ObjectiveFunction at 0x137229790>"
      ]
     },
     "execution_count": 10,
     "metadata": {},
     "output_type": "execute_result"
    }
   ],
   "source": [
    "ci.ObjectiveFunction(function=exp_function,\n",
    "                     optimization=ci.Optimization.Min,\n",
    "                     n_dimensions=5,\n",
    "                     bounds=[-10, 10]\n",
    "                     )"
   ]
  },
  {
   "cell_type": "markdown",
   "id": "c98d8fb8",
   "metadata": {
    "pycharm": {
     "name": "#%% md\n"
    }
   },
   "source": [
    "Or we could set the bounds after creation:"
   ]
  },
  {
   "cell_type": "code",
   "execution_count": 11,
   "id": "8568bc3d",
   "metadata": {
    "pycharm": {
     "name": "#%%\n"
    }
   },
   "outputs": [],
   "source": [
    "obj_func.bounds = [-10, 10]"
   ]
  },
  {
   "cell_type": "markdown",
   "id": "471fbc16",
   "metadata": {
    "pycharm": {
     "name": "#%% md\n"
    }
   },
   "source": [
    "**NOTE: You only need to pass a list with two elements representing the lower and upper boundary constraints if they are the same for all dimensions.** \n",
    "\n",
    "If you want different bounds for some dimensions, you must pass a list of lower and upper bounds equal to the number of dimensions of the objective function. The following is a correct example of this:"
   ]
  },
  {
   "cell_type": "code",
   "execution_count": 12,
   "id": "35a972e7",
   "metadata": {
    "pycharm": {
     "name": "#%%\n"
    }
   },
   "outputs": [],
   "source": [
    "obj_func.bounds = [[-1, 1], [-2, 2], [-3, 3], [-4, 4], [-5, 5]]"
   ]
  },
  {
   "cell_type": "markdown",
   "id": "dafdf6dc",
   "metadata": {
    "pycharm": {
     "name": "#%% md\n"
    }
   },
   "source": [
    "### 3. Adding Vector Constraints\n",
    "\n",
    "Vector constraints can also be added that constrain elements of position vectors. Due to the potential for users wanting complex vector constraints, vector constraints are passed as a list of functions, where each function takes a vector as it's only parameter. For example, say we wish to limit the value of the 4th dimension (remember our `ObjectiveFunction` is in 5 dimensions) if it is greater than double the sum of all the other elements. Although this is a fairly esoteric example, we can easily define a function for this."
   ]
  },
  {
   "cell_type": "code",
   "execution_count": 13,
   "id": "c64fa36f",
   "metadata": {
    "pycharm": {
     "name": "#%%\n"
    }
   },
   "outputs": [],
   "source": [
    "def limit_fourth(vector):\n",
    "    # fourth dimension of vector must be less than the sum of all the other dimensions.\n",
    "    return vector[3] < (vector[0] + vector[1] + vector[2] + vector[4])"
   ]
  },
  {
   "cell_type": "markdown",
   "id": "162e5ce4",
   "metadata": {
    "pycharm": {
     "name": "#%% md\n"
    }
   },
   "source": [
    "**NOTE: Functions for vector constraints only take a vector as a parameter.**\n",
    "\n",
    "Once we have defined our vector constraint functions, we can redefine the `ObjectiveFunction` like we did when defining boundary constraints passing a list of the functions as a parameter. Or we can just set the `vector_constraints` field of `obj_func`."
   ]
  },
  {
   "cell_type": "code",
   "execution_count": 14,
   "id": "03cdc2d5",
   "metadata": {
    "pycharm": {
     "name": "#%%\n"
    }
   },
   "outputs": [],
   "source": [
    "obj_func.vector_constraints = [limit_fourth]"
   ]
  },
  {
   "cell_type": "markdown",
   "id": "13b8631c",
   "metadata": {
    "pycharm": {
     "name": "#%% md\n"
    }
   },
   "source": [
    "### 4. Dynamic Objective Function\n",
    "\n",
    "Dynamic objective functions are categorized by their changing `function` field. There are a couple ways to define dynamic objective functions. To demonstrate how each approach works, we'll define an `Algorithm` to optimize the objective function. We'll use a simple inertia weight particle swarm optimization algorithm for this example. We'll use a single swarm of 50 particles and set the control parameters `w` (weight), `c1` (first acceleration coefficient) and `c2` (second acceleration coefficient) to safe values that should result in convergence on an optimal solution. For more on importing, defining and using algorithms, check out the algorithms tutorial notebook."
   ]
  },
  {
   "cell_type": "code",
   "execution_count": 15,
   "id": "1002acf8",
   "metadata": {
    "collapsed": false,
    "pycharm": {
     "name": "#%%\n"
    }
   },
   "outputs": [],
   "source": [
    "from cify.si.pso.algorithm import InertiaWeightPSO\n",
    "\n",
    "pso = InertiaWeightPSO(obj_func=obj_func,\n",
    "                       swarms=[ci.get_swarm(50, obj_func)],\n",
    "                       velocity_params={'w': 0.72, 'c1':1.4, 'c2':1.4}\n",
    "                       )"
   ]
  },
  {
   "cell_type": "markdown",
   "id": "ebbe9558",
   "metadata": {
    "collapsed": false,
    "pycharm": {
     "name": "#%% md\n"
    }
   },
   "source": [
    "The first approach is to redefine the `function` field of your `ObjectiveFunction` after each iteration or number of iterations. This is more of a \"manual\" approach compared to what we'll look at shortly."
   ]
  },
  {
   "cell_type": "code",
   "execution_count": 16,
   "id": "6b2a18a9",
   "metadata": {
    "collapsed": false,
    "pycharm": {
     "name": "#%%\n"
    }
   },
   "outputs": [
    {
     "data": {
      "text/html": [
       "<div>\n",
       "<style scoped>\n",
       "    .dataframe tbody tr th:only-of-type {\n",
       "        vertical-align: middle;\n",
       "    }\n",
       "\n",
       "    .dataframe tbody tr th {\n",
       "        vertical-align: top;\n",
       "    }\n",
       "\n",
       "    .dataframe thead th {\n",
       "        text-align: right;\n",
       "    }\n",
       "</style>\n",
       "<table border=\"1\" class=\"dataframe\">\n",
       "  <thead>\n",
       "    <tr style=\"text-align: right;\">\n",
       "      <th></th>\n",
       "      <th>best</th>\n",
       "      <th>worst</th>\n",
       "      <th>mean</th>\n",
       "      <th>stdev</th>\n",
       "      <th>global_optimum</th>\n",
       "      <th>n_evaluations</th>\n",
       "    </tr>\n",
       "    <tr>\n",
       "      <th>iteration</th>\n",
       "      <th></th>\n",
       "      <th></th>\n",
       "      <th></th>\n",
       "      <th></th>\n",
       "      <th></th>\n",
       "      <th></th>\n",
       "    </tr>\n",
       "  </thead>\n",
       "  <tbody>\n",
       "    <tr>\n",
       "      <th>1</th>\n",
       "      <td>13.035604</td>\n",
       "      <td>2.211748e+13</td>\n",
       "      <td>4.467273e+11</td>\n",
       "      <td>3.095861e+12</td>\n",
       "      <td>13.035604</td>\n",
       "      <td>253</td>\n",
       "    </tr>\n",
       "    <tr>\n",
       "      <th>2</th>\n",
       "      <td>2.864392</td>\n",
       "      <td>2.486185e+07</td>\n",
       "      <td>5.655651e+05</td>\n",
       "      <td>3.488678e+06</td>\n",
       "      <td>2.864392</td>\n",
       "      <td>455</td>\n",
       "    </tr>\n",
       "    <tr>\n",
       "      <th>3</th>\n",
       "      <td>2.373651</td>\n",
       "      <td>7.628355e+11</td>\n",
       "      <td>1.526532e+10</td>\n",
       "      <td>1.067958e+11</td>\n",
       "      <td>2.373651</td>\n",
       "      <td>487</td>\n",
       "    </tr>\n",
       "    <tr>\n",
       "      <th>4</th>\n",
       "      <td>0.002189</td>\n",
       "      <td>1.027258e+01</td>\n",
       "      <td>1.703717e+00</td>\n",
       "      <td>2.478991e+00</td>\n",
       "      <td>0.000834</td>\n",
       "      <td>444</td>\n",
       "    </tr>\n",
       "    <tr>\n",
       "      <th>5</th>\n",
       "      <td>0.000324</td>\n",
       "      <td>1.467760e+01</td>\n",
       "      <td>2.379483e+00</td>\n",
       "      <td>3.093592e+00</td>\n",
       "      <td>0.000324</td>\n",
       "      <td>435</td>\n",
       "    </tr>\n",
       "    <tr>\n",
       "      <th>6</th>\n",
       "      <td>0.000402</td>\n",
       "      <td>1.877013e+01</td>\n",
       "      <td>2.075894e+00</td>\n",
       "      <td>3.800000e+00</td>\n",
       "      <td>0.000324</td>\n",
       "      <td>477</td>\n",
       "    </tr>\n",
       "    <tr>\n",
       "      <th>7</th>\n",
       "      <td>-7.694251</td>\n",
       "      <td>4.734108e+00</td>\n",
       "      <td>-9.952367e-02</td>\n",
       "      <td>2.683646e+00</td>\n",
       "      <td>-10.932584</td>\n",
       "      <td>487</td>\n",
       "    </tr>\n",
       "    <tr>\n",
       "      <th>8</th>\n",
       "      <td>-12.169194</td>\n",
       "      <td>3.030978e+00</td>\n",
       "      <td>-5.289125e+00</td>\n",
       "      <td>3.725139e+00</td>\n",
       "      <td>-12.169194</td>\n",
       "      <td>496</td>\n",
       "    </tr>\n",
       "    <tr>\n",
       "      <th>9</th>\n",
       "      <td>-22.476677</td>\n",
       "      <td>-2.244005e+00</td>\n",
       "      <td>-1.111163e+01</td>\n",
       "      <td>4.417766e+00</td>\n",
       "      <td>-22.476677</td>\n",
       "      <td>436</td>\n",
       "    </tr>\n",
       "    <tr>\n",
       "      <th>10</th>\n",
       "      <td>0.282850</td>\n",
       "      <td>1.374401e+01</td>\n",
       "      <td>4.386411e+00</td>\n",
       "      <td>2.990510e+00</td>\n",
       "      <td>0.040223</td>\n",
       "      <td>404</td>\n",
       "    </tr>\n",
       "    <tr>\n",
       "      <th>11</th>\n",
       "      <td>0.037014</td>\n",
       "      <td>1.579959e+01</td>\n",
       "      <td>5.071543e+00</td>\n",
       "      <td>4.155145e+00</td>\n",
       "      <td>0.037014</td>\n",
       "      <td>402</td>\n",
       "    </tr>\n",
       "    <tr>\n",
       "      <th>12</th>\n",
       "      <td>0.007600</td>\n",
       "      <td>1.046514e+01</td>\n",
       "      <td>4.252993e+00</td>\n",
       "      <td>2.818408e+00</td>\n",
       "      <td>0.007600</td>\n",
       "      <td>440</td>\n",
       "    </tr>\n",
       "  </tbody>\n",
       "</table>\n",
       "</div>"
      ],
      "text/plain": [
       "                best         worst          mean         stdev  \\\n",
       "iteration                                                        \n",
       "1          13.035604  2.211748e+13  4.467273e+11  3.095861e+12   \n",
       "2           2.864392  2.486185e+07  5.655651e+05  3.488678e+06   \n",
       "3           2.373651  7.628355e+11  1.526532e+10  1.067958e+11   \n",
       "4           0.002189  1.027258e+01  1.703717e+00  2.478991e+00   \n",
       "5           0.000324  1.467760e+01  2.379483e+00  3.093592e+00   \n",
       "6           0.000402  1.877013e+01  2.075894e+00  3.800000e+00   \n",
       "7          -7.694251  4.734108e+00 -9.952367e-02  2.683646e+00   \n",
       "8         -12.169194  3.030978e+00 -5.289125e+00  3.725139e+00   \n",
       "9         -22.476677 -2.244005e+00 -1.111163e+01  4.417766e+00   \n",
       "10          0.282850  1.374401e+01  4.386411e+00  2.990510e+00   \n",
       "11          0.037014  1.579959e+01  5.071543e+00  4.155145e+00   \n",
       "12          0.007600  1.046514e+01  4.252993e+00  2.818408e+00   \n",
       "\n",
       "           global_optimum n_evaluations  \n",
       "iteration                                \n",
       "1               13.035604           253  \n",
       "2                2.864392           455  \n",
       "3                2.373651           487  \n",
       "4                0.000834           444  \n",
       "5                0.000324           435  \n",
       "6                0.000324           477  \n",
       "7              -10.932584           487  \n",
       "8              -12.169194           496  \n",
       "9              -22.476677           436  \n",
       "10               0.040223           404  \n",
       "11               0.037014           402  \n",
       "12               0.007600           440  "
      ]
     },
     "execution_count": 16,
     "metadata": {},
     "output_type": "execute_result"
    }
   ],
   "source": [
    "func_1 = lambda vector: abs(vector[0] + vector[1] + vector[2] + vector[3] + vector[4])\n",
    "func_2 = lambda vector: vector[0] - vector[1] + vector[2] - vector[3] + vector[4]\n",
    "func_3 = lambda vector: sum(vector) * vector.mean()\n",
    "\n",
    "# Perform 10 iterations attempting to minimize the objective function defined previously.\n",
    "pso.iterate(3)\n",
    "\n",
    "# First change\n",
    "obj_func.function = func_3\n",
    "pso.iterate(3)\n",
    "\n",
    "# Second change\n",
    "obj_func.function = func_2\n",
    "pso.iterate(3)\n",
    "\n",
    "# Third change\n",
    "obj_func.function = func_1\n",
    "pso.iterate(3)\n",
    "\n",
    "# Print statistics\n",
    "pso.statistics"
   ]
  },
  {
   "cell_type": "markdown",
   "id": "d40ad606",
   "metadata": {
    "collapsed": false,
    "pycharm": {
     "name": "#%% md\n"
    }
   },
   "source": [
    "If your function references a value that you wish to change at each iteration, you can use the `dynamic_variables` field to define how attributes of the objective function must change at each iteration."
   ]
  },
  {
   "cell_type": "code",
   "execution_count": null,
   "id": "fd0d8629",
   "metadata": {
    "collapsed": false,
    "pycharm": {
     "name": "#%%\n"
    }
   },
   "outputs": [],
   "source": [
    "bias = 1\n",
    "incr_bias = lambda x: x + 1\n",
    "changing_func = lambda vector: abs(vector[0] + incr_bias(bias) + vector[1] + vector[2] + vector[3] + vector[4])\n",
    "# won't work ^, will increment at every particle evaluation\n",
    "\n",
    "obj_func.function\n",
    "# def dynamic_func(vector):\n",
    "#     return vector + bias\n"
   ]
  },
  {
   "cell_type": "markdown",
   "id": "f45abb33",
   "metadata": {
    "pycharm": {
     "name": "#%% md\n"
    }
   },
   "source": [
    "### 5. Dynamic Vector Constraints"
   ]
  },
  {
   "cell_type": "code",
   "execution_count": null,
   "id": "8ff96c08",
   "metadata": {
    "collapsed": false,
    "pycharm": {
     "name": "#%%\n"
    }
   },
   "outputs": [],
   "source": []
  },
  {
   "cell_type": "markdown",
   "id": "8063d24f",
   "metadata": {
    "pycharm": {
     "name": "#%% md\n"
    }
   },
   "source": [
    "### 6. Multi- and Many- Objectives"
   ]
  },
  {
   "cell_type": "code",
   "execution_count": 11,
   "id": "2e1bffc1",
   "metadata": {
    "collapsed": false,
    "pycharm": {
     "name": "#%%\n"
    }
   },
   "outputs": [],
   "source": []
  }
 ],
 "metadata": {
  "kernelspec": {
   "display_name": "Python 3 (ipykernel)",
   "language": "python",
   "name": "python3"
  },
  "language_info": {
   "codemirror_mode": {
    "name": "ipython",
    "version": 3
   },
   "file_extension": ".py",
   "mimetype": "text/x-python",
   "name": "python",
   "nbconvert_exporter": "python",
   "pygments_lexer": "ipython3",
   "version": "3.10.6"
  }
 },
 "nbformat": 4,
 "nbformat_minor": 5
}
