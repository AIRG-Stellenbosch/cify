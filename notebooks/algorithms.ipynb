{
 "cells": [
  {
   "cell_type": "markdown",
   "source": [
    "# Algorithms\n",
    "\n",
    "In this tutorial, we will explore the general philosophy behind algorithms provided in this framework and we will end with a look at implementing your own algorithms from scratch, whilst maintaining compatibility with the framework. CIFY provides algorithms for swarm intelligence and evolutionary computation and all algorithms return statistics in the form of a Pandas DataFrame. We'll start by looking at particle swarm optimization (PSO), but first, we must import cify and set a seed for all stochastic operations."
   ],
   "metadata": {
    "collapsed": false,
    "pycharm": {
     "name": "#%% md\n"
    }
   }
  },
  {
   "cell_type": "code",
   "execution_count": 1,
   "outputs": [
    {
     "name": "stdout",
     "output_type": "stream",
     "text": [
      "CIFY: internal seed successfully set to: '0'\n"
     ]
    }
   ],
   "source": [
    "# To install cify via pip:\n",
    "# ! pip install cify\n",
    "import cify as ci\n",
    "\n",
    "ci.set_seed(0)"
   ],
   "metadata": {
    "collapsed": false,
    "pycharm": {
     "name": "#%%\n"
    }
   }
  },
  {
   "cell_type": "markdown",
   "source": [
    "## PSO\n",
    "\n",
    "Particle Swarm Optimization (PSO) algorithms use one or more swarms of particles to solve an objective function. The particles have position and velocity update operators that determine how to update their position\n",
    "and velocity at the end of each iteration. The velocity update operator, typically prefixed with `*_vel_update`, determines how the trajectory of a particle in search space is affected. Below are a few examples of optimizing the rosenbrock objective function using a couple PSO metaheuristics. First, we'll import the algorithms and define an objective function."
   ],
   "metadata": {
    "collapsed": false,
    "pycharm": {
     "name": "#%% md\n"
    }
   }
  },
  {
   "cell_type": "code",
   "execution_count": 2,
   "outputs": [],
   "source": [
    "from cify.si.pso.algorithm import PSO, InertiaWeightPSO\n",
    "\n",
    "# Define objective function.\n",
    "obj_func = ci.get_objective_function('rosenbrock', ci.Optimization.Min, 10)"
   ],
   "metadata": {
    "collapsed": false,
    "pycharm": {
     "name": "#%%\n"
    }
   }
  },
  {
   "cell_type": "markdown",
   "source": [
    "The standard PSO algorithm with three swarms:"
   ],
   "metadata": {
    "collapsed": false,
    "pycharm": {
     "name": "#%% md\n"
    }
   }
  },
  {
   "cell_type": "code",
   "execution_count": 4,
   "outputs": [
    {
     "name": "stderr",
     "output_type": "stream",
     "text": [
      "100%|██████████| 100/100 [00:27<00:00,  3.61it/s]\n"
     ]
    },
    {
     "data": {
      "text/plain": "                 best         worst         mean        stdev  global_optimum  \\\niteration                                                                       \n96         111.703958  10033.546738  4648.041998  2203.011241      111.703958   \n97         111.703958  11522.656332  4395.894601  2385.997594      111.703958   \n98         111.703958   9709.636204  3988.904745  2162.019298      111.703958   \n99         111.703958   9824.141424  4235.712319  2073.313266      111.703958   \n100        111.703958  11972.964051  4318.737118  2118.621926      111.703958   \n\n          n_evaluations  \niteration                \n96                 8503  \n97                 8503  \n98                 8503  \n99                 8503  \n100                8503  ",
      "text/html": "<div>\n<style scoped>\n    .dataframe tbody tr th:only-of-type {\n        vertical-align: middle;\n    }\n\n    .dataframe tbody tr th {\n        vertical-align: top;\n    }\n\n    .dataframe thead th {\n        text-align: right;\n    }\n</style>\n<table border=\"1\" class=\"dataframe\">\n  <thead>\n    <tr style=\"text-align: right;\">\n      <th></th>\n      <th>best</th>\n      <th>worst</th>\n      <th>mean</th>\n      <th>stdev</th>\n      <th>global_optimum</th>\n      <th>n_evaluations</th>\n    </tr>\n    <tr>\n      <th>iteration</th>\n      <th></th>\n      <th></th>\n      <th></th>\n      <th></th>\n      <th></th>\n      <th></th>\n    </tr>\n  </thead>\n  <tbody>\n    <tr>\n      <th>96</th>\n      <td>111.703958</td>\n      <td>10033.546738</td>\n      <td>4648.041998</td>\n      <td>2203.011241</td>\n      <td>111.703958</td>\n      <td>8503</td>\n    </tr>\n    <tr>\n      <th>97</th>\n      <td>111.703958</td>\n      <td>11522.656332</td>\n      <td>4395.894601</td>\n      <td>2385.997594</td>\n      <td>111.703958</td>\n      <td>8503</td>\n    </tr>\n    <tr>\n      <th>98</th>\n      <td>111.703958</td>\n      <td>9709.636204</td>\n      <td>3988.904745</td>\n      <td>2162.019298</td>\n      <td>111.703958</td>\n      <td>8503</td>\n    </tr>\n    <tr>\n      <th>99</th>\n      <td>111.703958</td>\n      <td>9824.141424</td>\n      <td>4235.712319</td>\n      <td>2073.313266</td>\n      <td>111.703958</td>\n      <td>8503</td>\n    </tr>\n    <tr>\n      <th>100</th>\n      <td>111.703958</td>\n      <td>11972.964051</td>\n      <td>4318.737118</td>\n      <td>2118.621926</td>\n      <td>111.703958</td>\n      <td>8503</td>\n    </tr>\n  </tbody>\n</table>\n</div>"
     },
     "execution_count": 4,
     "metadata": {},
     "output_type": "execute_result"
    }
   ],
   "source": [
    "pso = PSO(obj_func, swarms=[\n",
    "    ci.get_swarm(n_particles=50, obj_func=obj_func),\n",
    "    ci.get_swarm(n_particles=30, obj_func=obj_func),\n",
    "    ci.get_swarm(n_particles=20, obj_func=obj_func),\n",
    "])\n",
    "\n",
    "# Execute and return the statistics of the last five iterations.\n",
    "pso.execute(100)\n",
    "pso.statistics.tail(5)"
   ],
   "metadata": {
    "collapsed": false,
    "pycharm": {
     "name": "#%%\n"
    }
   }
  },
  {
   "cell_type": "markdown",
   "source": [
    "The performance of the standard PSO was ok, but not great. Let's try using the `InertiaWeightPSO` algorithm instead. This algorithm uses a different velocity update operator that gives each particle inertia in its journey through the search space. We could also just use the `PSO` algorithm and make it use the `inertia_weight_vel_update` operator. Remember, PSO velocity update operators are stored in `cify.velocity_updates`."
   ],
   "metadata": {
    "collapsed": false,
    "pycharm": {
     "name": "#%% md\n"
    }
   }
  },
  {
   "cell_type": "code",
   "execution_count": 5,
   "outputs": [
    {
     "name": "stderr",
     "output_type": "stream",
     "text": [
      "100%|██████████| 100/100 [00:17<00:00,  5.64it/s]\n"
     ]
    },
    {
     "data": {
      "text/plain": "                best         worst         mean        stdev  global_optimum  \\\niteration                                                                      \n96         27.459453  10946.777377  4405.792193  2542.205149       26.964811   \n97         27.331610   9606.118944  4086.874835  2223.051825       26.964811   \n98         25.839312   8501.609323  3970.045161  2058.048869       25.839312   \n99         26.359693  10492.288225  3837.837926  2340.602586       25.839312   \n100        25.026685   8766.201689  4508.877989  2016.702601       25.026685   \n\n          n_evaluations  \niteration                \n96                 5460  \n97                 5457  \n98                 5459  \n99                 5465  \n100                5459  ",
      "text/html": "<div>\n<style scoped>\n    .dataframe tbody tr th:only-of-type {\n        vertical-align: middle;\n    }\n\n    .dataframe tbody tr th {\n        vertical-align: top;\n    }\n\n    .dataframe thead th {\n        text-align: right;\n    }\n</style>\n<table border=\"1\" class=\"dataframe\">\n  <thead>\n    <tr style=\"text-align: right;\">\n      <th></th>\n      <th>best</th>\n      <th>worst</th>\n      <th>mean</th>\n      <th>stdev</th>\n      <th>global_optimum</th>\n      <th>n_evaluations</th>\n    </tr>\n    <tr>\n      <th>iteration</th>\n      <th></th>\n      <th></th>\n      <th></th>\n      <th></th>\n      <th></th>\n      <th></th>\n    </tr>\n  </thead>\n  <tbody>\n    <tr>\n      <th>96</th>\n      <td>27.459453</td>\n      <td>10946.777377</td>\n      <td>4405.792193</td>\n      <td>2542.205149</td>\n      <td>26.964811</td>\n      <td>5460</td>\n    </tr>\n    <tr>\n      <th>97</th>\n      <td>27.331610</td>\n      <td>9606.118944</td>\n      <td>4086.874835</td>\n      <td>2223.051825</td>\n      <td>26.964811</td>\n      <td>5457</td>\n    </tr>\n    <tr>\n      <th>98</th>\n      <td>25.839312</td>\n      <td>8501.609323</td>\n      <td>3970.045161</td>\n      <td>2058.048869</td>\n      <td>25.839312</td>\n      <td>5459</td>\n    </tr>\n    <tr>\n      <th>99</th>\n      <td>26.359693</td>\n      <td>10492.288225</td>\n      <td>3837.837926</td>\n      <td>2340.602586</td>\n      <td>25.839312</td>\n      <td>5465</td>\n    </tr>\n    <tr>\n      <th>100</th>\n      <td>25.026685</td>\n      <td>8766.201689</td>\n      <td>4508.877989</td>\n      <td>2016.702601</td>\n      <td>25.026685</td>\n      <td>5459</td>\n    </tr>\n  </tbody>\n</table>\n</div>"
     },
     "execution_count": 5,
     "metadata": {},
     "output_type": "execute_result"
    }
   ],
   "source": [
    "# This is just for demonstration purposes. We'll use inertia_pso to optimize the objective function.\n",
    "using_standard_pso = PSO(obj_func=obj_func,\n",
    "                         swarms=[ci.get_swarm(obj_func=obj_func)],\n",
    "                         velocity_update=ci.velocity_updates.inertia_weight_vel_update)\n",
    "\n",
    "# Using the InertiaWeightPSO class\n",
    "inertia_pso = InertiaWeightPSO(obj_func=obj_func, swarms=[ci.get_swarm(obj_func=obj_func)])\n",
    "\n",
    "inertia_pso.execute(100)\n",
    "inertia_pso.statistics.tail(5)"
   ],
   "metadata": {
    "collapsed": false,
    "pycharm": {
     "name": "#%%\n"
    }
   }
  },
  {
   "cell_type": "markdown",
   "source": [
    "That's better, we've managed to gain a reasonable improvement over the standard PSO. Let's try tuning the operators a little. We'll also use 3 swarms with 75 particles each, and get them using the `get_swarms` utility method. To examine the performance of this approach, we'll plot the `global_optimum` using matplotlib."
   ],
   "metadata": {
    "collapsed": false,
    "pycharm": {
     "name": "#%% md\n"
    }
   }
  },
  {
   "cell_type": "code",
   "execution_count": 6,
   "outputs": [
    {
     "name": "stderr",
     "output_type": "stream",
     "text": [
      "100%|██████████| 100/100 [01:51<00:00,  1.11s/it]\n"
     ]
    },
    {
     "data": {
      "text/plain": "<Figure size 640x480 with 1 Axes>",
      "image/png": "[encoded data removed]"
     },
     "metadata": {},
     "output_type": "display_data"
    }
   ],
   "source": [
    "import matplotlib.pyplot as plt\n",
    "\n",
    "tuned_pso = InertiaWeightPSO(obj_func=obj_func,\n",
    "                             swarms=ci.get_swarms(3, 75, obj_func=obj_func),\n",
    "                             velocity_params = {'w': 0.82, 'c1':1.12, 'c2':1.8},\n",
    "                             )\n",
    "\n",
    "tuned_pso.execute(100)\n",
    "plt.plot(tuned_pso.statistics['global_optimum'])\n",
    "plt.xlabel('Iteration')\n",
    "plt.ylabel('Global Optimum')\n",
    "plt.show()"
   ],
   "metadata": {
    "collapsed": false,
    "pycharm": {
     "name": "#%%\n"
    }
   }
  },
  {
   "cell_type": "markdown",
   "source": [
    "With all those particles to simulate (3 x 75 = 225), that took a a bit longer to run. Luckily, we have some acceptable results as indicated in the graph above. But, if we look at the results of our final iteration, we have not improved at all over the previous approaches."
   ],
   "metadata": {
    "collapsed": false,
    "pycharm": {
     "name": "#%% md\n"
    }
   }
  },
  {
   "cell_type": "code",
   "execution_count": 7,
   "outputs": [
    {
     "data": {
      "text/plain": "                  best         worst         mean        stdev  \\\niteration                                                        \n100        1050.879232  11703.089433  4297.516689  1964.308719   \n\n           global_optimum n_evaluations  \niteration                                \n100            103.682729         35776  ",
      "text/html": "<div>\n<style scoped>\n    .dataframe tbody tr th:only-of-type {\n        vertical-align: middle;\n    }\n\n    .dataframe tbody tr th {\n        vertical-align: top;\n    }\n\n    .dataframe thead th {\n        text-align: right;\n    }\n</style>\n<table border=\"1\" class=\"dataframe\">\n  <thead>\n    <tr style=\"text-align: right;\">\n      <th></th>\n      <th>best</th>\n      <th>worst</th>\n      <th>mean</th>\n      <th>stdev</th>\n      <th>global_optimum</th>\n      <th>n_evaluations</th>\n    </tr>\n    <tr>\n      <th>iteration</th>\n      <th></th>\n      <th></th>\n      <th></th>\n      <th></th>\n      <th></th>\n      <th></th>\n    </tr>\n  </thead>\n  <tbody>\n    <tr>\n      <th>100</th>\n      <td>1050.879232</td>\n      <td>11703.089433</td>\n      <td>4297.516689</td>\n      <td>1964.308719</td>\n      <td>103.682729</td>\n      <td>35776</td>\n    </tr>\n  </tbody>\n</table>\n</div>"
     },
     "execution_count": 7,
     "metadata": {},
     "output_type": "execute_result"
    }
   ],
   "source": [
    "tuned_pso.statistics.tail(1)"
   ],
   "metadata": {
    "collapsed": false,
    "pycharm": {
     "name": "#%%\n"
    }
   }
  },
  {
   "cell_type": "markdown",
   "source": [
    "## GA\n",
    "\n",
    "Genetic algorithms might be able to solve the Rosenbrock problem better than the previous PSO attempts. We'll try just one approach for 100 iterations. Have a look through the API documentation for more genetic algorithm approaches, in particular, look through the evolutionary operators as adjusting these parameters will lead to the biggest improvements. We'll use linear crossover to ensure our floating point input variables are blended. There are a range of other operators that perform blending in different ways. Some of the other operators, such as `uniform_crossover` or `npoint_crossover` are for discrete input variables. Once again, the API documentation is your friend."
   ],
   "metadata": {
    "collapsed": false,
    "pycharm": {
     "name": "#%% md\n"
    }
   }
  },
  {
   "cell_type": "code",
   "execution_count": 11,
   "outputs": [
    {
     "name": "stderr",
     "output_type": "stream",
     "text": [
      "100%|██████████| 100/100 [00:11<00:00,  8.38it/s]\n"
     ]
    },
    {
     "data": {
      "text/plain": "                 best        worst        mean       stdev  global_optimum  \\\niteration                                                                    \n100        139.706543  1163.962239  283.416151  125.221247       34.484795   \n\n          n_evaluations  \niteration                \n100                1801  ",
      "text/html": "<div>\n<style scoped>\n    .dataframe tbody tr th:only-of-type {\n        vertical-align: middle;\n    }\n\n    .dataframe tbody tr th {\n        vertical-align: top;\n    }\n\n    .dataframe thead th {\n        text-align: right;\n    }\n</style>\n<table border=\"1\" class=\"dataframe\">\n  <thead>\n    <tr style=\"text-align: right;\">\n      <th></th>\n      <th>best</th>\n      <th>worst</th>\n      <th>mean</th>\n      <th>stdev</th>\n      <th>global_optimum</th>\n      <th>n_evaluations</th>\n    </tr>\n    <tr>\n      <th>iteration</th>\n      <th></th>\n      <th></th>\n      <th></th>\n      <th></th>\n      <th></th>\n      <th></th>\n    </tr>\n  </thead>\n  <tbody>\n    <tr>\n      <th>100</th>\n      <td>139.706543</td>\n      <td>1163.962239</td>\n      <td>283.416151</td>\n      <td>125.221247</td>\n      <td>34.484795</td>\n      <td>1801</td>\n    </tr>\n  </tbody>\n</table>\n</div>"
     },
     "execution_count": 11,
     "metadata": {},
     "output_type": "execute_result"
    }
   ],
   "source": [
    "from cify.ec.ga.algorithm import GA\n",
    "\n",
    "ga = GA(obj_func=obj_func,\n",
    "        populations=ci.get_populations(3, 50, obj_func=obj_func),\n",
    "        # crossover_operator=ci.operators.linear_crossover,\n",
    "        )\n",
    "\n",
    "ga.execute(100)\n",
    "ga.statistics.tail(1)"
   ],
   "metadata": {
    "collapsed": false,
    "pycharm": {
     "name": "#%%\n"
    }
   }
  },
  {
   "cell_type": "code",
   "execution_count": 12,
   "outputs": [
    {
     "data": {
      "text/plain": "<Figure size 640x480 with 1 Axes>",
      "image/png": "[encoded data removed]"
     },
     "metadata": {},
     "output_type": "display_data"
    }
   ],
   "source": [
    "import matplotlib.pyplot as plt\n",
    "\n",
    "plt.plot(ga.statistics['stdev'])\n",
    "plt.show()"
   ],
   "metadata": {
    "collapsed": false,
    "pycharm": {
     "name": "#%%\n"
    }
   }
  },
  {
   "cell_type": "markdown",
   "source": [
    "## DE\n",
    "\n",
    "Differential evolution takes a different approach to finding optimal solutions. Let's see how a DE algorithm compares to the previous approaches."
   ],
   "metadata": {
    "collapsed": false,
    "pycharm": {
     "name": "#%% md\n"
    }
   }
  },
  {
   "cell_type": "code",
   "execution_count": 8,
   "outputs": [
    {
     "name": "stderr",
     "output_type": "stream",
     "text": [
      "100%|██████████| 100/100 [00:04<00:00, 24.71it/s]\n"
     ]
    },
    {
     "data": {
      "text/plain": "               best     worst      mean     stdev  global_optimum  \\\niteration                                                           \n96         0.209123  0.703089  0.466061  0.123154        0.163842   \n97         0.209123  0.703089  0.434530  0.111184        0.163842   \n98         0.201311  0.703089  0.389530  0.111078        0.163842   \n99         0.201311  0.543802  0.359623  0.102018        0.163842   \n100        0.170072  0.543802  0.327667  0.101395        0.163842   \n\n          n_evaluations  \niteration                \n96                  400  \n97                  400  \n98                  400  \n99                  400  \n100                 400  ",
      "text/html": "<div>\n<style scoped>\n    .dataframe tbody tr th:only-of-type {\n        vertical-align: middle;\n    }\n\n    .dataframe tbody tr th {\n        vertical-align: top;\n    }\n\n    .dataframe thead th {\n        text-align: right;\n    }\n</style>\n<table border=\"1\" class=\"dataframe\">\n  <thead>\n    <tr style=\"text-align: right;\">\n      <th></th>\n      <th>best</th>\n      <th>worst</th>\n      <th>mean</th>\n      <th>stdev</th>\n      <th>global_optimum</th>\n      <th>n_evaluations</th>\n    </tr>\n    <tr>\n      <th>iteration</th>\n      <th></th>\n      <th></th>\n      <th></th>\n      <th></th>\n      <th></th>\n      <th></th>\n    </tr>\n  </thead>\n  <tbody>\n    <tr>\n      <th>96</th>\n      <td>0.209123</td>\n      <td>0.703089</td>\n      <td>0.466061</td>\n      <td>0.123154</td>\n      <td>0.163842</td>\n      <td>400</td>\n    </tr>\n    <tr>\n      <th>97</th>\n      <td>0.209123</td>\n      <td>0.703089</td>\n      <td>0.434530</td>\n      <td>0.111184</td>\n      <td>0.163842</td>\n      <td>400</td>\n    </tr>\n    <tr>\n      <th>98</th>\n      <td>0.201311</td>\n      <td>0.703089</td>\n      <td>0.389530</td>\n      <td>0.111078</td>\n      <td>0.163842</td>\n      <td>400</td>\n    </tr>\n    <tr>\n      <th>99</th>\n      <td>0.201311</td>\n      <td>0.543802</td>\n      <td>0.359623</td>\n      <td>0.102018</td>\n      <td>0.163842</td>\n      <td>400</td>\n    </tr>\n    <tr>\n      <th>100</th>\n      <td>0.170072</td>\n      <td>0.543802</td>\n      <td>0.327667</td>\n      <td>0.101395</td>\n      <td>0.163842</td>\n      <td>400</td>\n    </tr>\n  </tbody>\n</table>\n</div>"
     },
     "execution_count": 8,
     "metadata": {},
     "output_type": "execute_result"
    }
   ],
   "source": [
    "from cify.ec.de.algorithm import DE\n",
    "\n",
    "de = DE(obj_func=obj_func, populations=[ci.get_population(50, obj_func=obj_func)])\n",
    "\n",
    "de.execute(100)\n",
    "de.statistics.tail(5)"
   ],
   "metadata": {
    "collapsed": false,
    "pycharm": {
     "name": "#%%\n"
    }
   }
  },
  {
   "cell_type": "markdown",
   "source": [
    "Wow, so far that's the best approach for this problem. Let's see how the global optimum changed with each iteration."
   ],
   "metadata": {
    "collapsed": false,
    "pycharm": {
     "name": "#%% md\n"
    }
   }
  },
  {
   "cell_type": "code",
   "execution_count": 9,
   "outputs": [
    {
     "data": {
      "text/plain": "<Figure size 640x480 with 1 Axes>",
      "image/png": "[encoded data removed]"
     },
     "metadata": {},
     "output_type": "display_data"
    }
   ],
   "source": [
    "plt.plot(de.statistics['global_optimum'])\n",
    "plt.xlabel('Iteration')\n",
    "plt.ylabel('Global Optimum')\n",
    "plt.show()"
   ],
   "metadata": {
    "collapsed": false,
    "pycharm": {
     "name": "#%%\n"
    }
   }
  },
  {
   "cell_type": "markdown",
   "source": [
    "As is the case with all the other metaheuristics, there are different operators that can be used to further tune the behavior of the DE algorithm. They are located in `cify.target_vectors` and `cify.trial_vectors`\n",
    "for different target vector selection approaches and trial vector creation approaches respectively."
   ],
   "metadata": {
    "collapsed": false,
    "pycharm": {
     "name": "#%% md\n"
    }
   }
  },
  {
   "cell_type": "markdown",
   "source": [
    "## Custom Algorithm\n",
    "\n",
    "It's also possible to define custom algorithms / metaheuristics. All we need to do is create a class that uses `cify.Algorithm` as its base class and overrides the `do_iteration` method. If you wanted to use the components of a certain paradigm, it is better practice to use the generic algorithm from that paradigm as the base class instead.\n",
    "\n",
    "Our custom PSO implementation is going to use the `uniform_crossover` operator from the evolutionary computation package to perform discrete uniform crossover between random pairs of particles before doing the standard\n",
    "iteration routine. We'll call it `EvoPSO` since it blends a little bit of evolutionary computation with particle swarm intelligence."
   ],
   "metadata": {
    "collapsed": false,
    "pycharm": {
     "name": "#%% md\n"
    }
   }
  },
  {
   "cell_type": "code",
   "execution_count": 10,
   "outputs": [],
   "source": [
    "class EvoPSO(PSO):\n",
    "    def __int__(self, **kwargs):\n",
    "        super().__init__(**kwargs)\n",
    "\n",
    "\n",
    "    def do_iteration(self):\n",
    "\n",
    "        for swarm in self.swarms:\n",
    "            for i in range(int(len(swarm) / 2)):\n",
    "                particles = ci.get_rng().choice(swarm.agents, size=2, replace=False)\n",
    "                swarm.remove(particles)\n",
    "                swarm.append(ci.operators.uniform_crossover(particles))\n",
    "\n",
    "        return super().do_iteration()"
   ],
   "metadata": {
    "collapsed": false,
    "pycharm": {
     "name": "#%%\n"
    }
   }
  },
  {
   "cell_type": "code",
   "execution_count": 11,
   "outputs": [
    {
     "name": "stderr",
     "output_type": "stream",
     "text": [
      "100%|██████████| 100/100 [00:18<00:00,  5.27it/s]\n"
     ]
    },
    {
     "data": {
      "text/plain": "                  best         worst         mean        stdev  \\\niteration                                                        \n96         1097.248168  10895.017570  4410.627303  2363.715753   \n97         1299.336260  10931.679346  4316.117330  2002.327570   \n98         1159.129642  10725.914508  4641.166852  2241.082033   \n99          714.747290  10936.796737  4536.682885  1926.061391   \n100        1353.783962  13709.697023  4731.920196  2393.691847   \n\n           global_optimum n_evaluations  \niteration                                \n96             203.536983          5651  \n97             203.536983          5651  \n98             203.536983          5651  \n99             203.536983          5651  \n100            203.536983          5651  ",
      "text/html": "<div>\n<style scoped>\n    .dataframe tbody tr th:only-of-type {\n        vertical-align: middle;\n    }\n\n    .dataframe tbody tr th {\n        vertical-align: top;\n    }\n\n    .dataframe thead th {\n        text-align: right;\n    }\n</style>\n<table border=\"1\" class=\"dataframe\">\n  <thead>\n    <tr style=\"text-align: right;\">\n      <th></th>\n      <th>best</th>\n      <th>worst</th>\n      <th>mean</th>\n      <th>stdev</th>\n      <th>global_optimum</th>\n      <th>n_evaluations</th>\n    </tr>\n    <tr>\n      <th>iteration</th>\n      <th></th>\n      <th></th>\n      <th></th>\n      <th></th>\n      <th></th>\n      <th></th>\n    </tr>\n  </thead>\n  <tbody>\n    <tr>\n      <th>96</th>\n      <td>1097.248168</td>\n      <td>10895.017570</td>\n      <td>4410.627303</td>\n      <td>2363.715753</td>\n      <td>203.536983</td>\n      <td>5651</td>\n    </tr>\n    <tr>\n      <th>97</th>\n      <td>1299.336260</td>\n      <td>10931.679346</td>\n      <td>4316.117330</td>\n      <td>2002.327570</td>\n      <td>203.536983</td>\n      <td>5651</td>\n    </tr>\n    <tr>\n      <th>98</th>\n      <td>1159.129642</td>\n      <td>10725.914508</td>\n      <td>4641.166852</td>\n      <td>2241.082033</td>\n      <td>203.536983</td>\n      <td>5651</td>\n    </tr>\n    <tr>\n      <th>99</th>\n      <td>714.747290</td>\n      <td>10936.796737</td>\n      <td>4536.682885</td>\n      <td>1926.061391</td>\n      <td>203.536983</td>\n      <td>5651</td>\n    </tr>\n    <tr>\n      <th>100</th>\n      <td>1353.783962</td>\n      <td>13709.697023</td>\n      <td>4731.920196</td>\n      <td>2393.691847</td>\n      <td>203.536983</td>\n      <td>5651</td>\n    </tr>\n  </tbody>\n</table>\n</div>"
     },
     "execution_count": 11,
     "metadata": {},
     "output_type": "execute_result"
    }
   ],
   "source": [
    "evo_pso = EvoPSO(obj_func=obj_func, swarms=[ci.get_swarm(50, obj_func=obj_func)])\n",
    "\n",
    "evo_pso.execute(100)\n",
    "evo_pso.statistics.tail(5)"
   ],
   "metadata": {
    "collapsed": false,
    "pycharm": {
     "name": "#%%\n"
    }
   }
  },
  {
   "cell_type": "markdown",
   "source": [
    "As we can see from the final five iterations, this approach was not a good one. The crossing over of input variables must be greatly sacrificing exploitation for exploration in the search process."
   ],
   "metadata": {
    "collapsed": false,
    "pycharm": {
     "name": "#%% md\n"
    }
   }
  },
  {
   "cell_type": "code",
   "execution_count": 1,
   "outputs": [
    {
     "ename": "NameError",
     "evalue": "name 'plt' is not defined",
     "output_type": "error",
     "traceback": [
      "\u001B[0;31m---------------------------------------------------------------------------\u001B[0m",
      "\u001B[0;31mNameError\u001B[0m                                 Traceback (most recent call last)",
      "Input \u001B[0;32mIn [1]\u001B[0m, in \u001B[0;36m<cell line: 1>\u001B[0;34m()\u001B[0m\n\u001B[0;32m----> 1\u001B[0m \u001B[43mplt\u001B[49m\u001B[38;5;241m.\u001B[39mplot(evo_pso\u001B[38;5;241m.\u001B[39mstatistics[\u001B[38;5;124m'\u001B[39m\u001B[38;5;124mglobal_optimum\u001B[39m\u001B[38;5;124m'\u001B[39m])\n",
      "\u001B[0;31mNameError\u001B[0m: name 'plt' is not defined"
     ]
    }
   ],
   "source": [
    "plt.plot(evo_pso.statistics['global_optimum'])"
   ],
   "metadata": {
    "collapsed": false,
    "pycharm": {
     "name": "#%%\n"
    }
   }
  }
 ],
 "metadata": {
  "kernelspec": {
   "display_name": "Python 3",
   "language": "python",
   "name": "python3"
  },
  "language_info": {
   "codemirror_mode": {
    "name": "ipython",
    "version": 2
   },
   "file_extension": ".py",
   "mimetype": "text/x-python",
   "name": "python",
   "nbconvert_exporter": "python",
   "pygments_lexer": "ipython2",
   "version": "2.7.6"
  }
 },
 "nbformat": 4,
 "nbformat_minor": 0
}